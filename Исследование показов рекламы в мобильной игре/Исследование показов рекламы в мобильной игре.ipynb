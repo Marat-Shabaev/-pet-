{
 "cells": [
  {
   "cell_type": "markdown",
   "id": "0bc5b2b8",
   "metadata": {
    "toc": true
   },
   "source": [
    "<h1>Содержание<span class=\"tocSkip\"></span></h1>\n",
    "<div class=\"toc\"><ul class=\"toc-item\"><li><span><a href=\"#Изучение-и-предобработка--данных-из-файла\" data-toc-modified-id=\"Изучение-и-предобработка--данных-из-файла-1\"><span class=\"toc-item-num\">1&nbsp;&nbsp;</span>Изучение и предобработка  данных из файла</a></span></li><li><span><a href=\"#Исследовательский-анализ-данных\" data-toc-modified-id=\"Исследовательский-анализ-данных-2\"><span class=\"toc-item-num\">2&nbsp;&nbsp;</span>Исследовательский анализ данных</a></span><ul class=\"toc-item\"><li><span><a href=\"#Общая-выручка-по-типу-рекламы\" data-toc-modified-id=\"Общая-выручка-по-типу-рекламы-2.1\"><span class=\"toc-item-num\">2.1&nbsp;&nbsp;</span>Общая выручка по типу рекламы</a></span></li><li><span><a href=\"#Распределение-средних-eCPM-пользователей,-в-зависимости-от-форматов-рекламы\" data-toc-modified-id=\"Распределение-средних-eCPM-пользователей,-в-зависимости-от-форматов-рекламы-2.2\"><span class=\"toc-item-num\">2.2&nbsp;&nbsp;</span>Распределение средних eCPM пользователей, в зависимости от форматов рекламы</a></span></li><li><span><a href=\"#Распределение-eCPM-по-городам,-версиям-ОС\" data-toc-modified-id=\"Распределение-eCPM-по-городам,-версиям-ОС-2.3\"><span class=\"toc-item-num\">2.3&nbsp;&nbsp;</span>Распределение eCPM по городам, версиям ОС</a></span><ul class=\"toc-item\"><li><span><a href=\"#Распределение-eCPM-по-городам\" data-toc-modified-id=\"Распределение-eCPM-по-городам-2.3.1\"><span class=\"toc-item-num\">2.3.1&nbsp;&nbsp;</span>Распределение eCPM по городам</a></span></li><li><span><a href=\"#Распределение-eCPM-по-версиям-ОС\" data-toc-modified-id=\"Распределение-eCPM-по-версиям-ОС-2.3.2\"><span class=\"toc-item-num\">2.3.2&nbsp;&nbsp;</span>Распределение eCPM по версиям ОС</a></span></li></ul></li><li><span><a href=\"#Распределение-выручки-по-городам,-версиям-ОС\" data-toc-modified-id=\"Распределение-выручки-по-городам,-версиям-ОС-2.4\"><span class=\"toc-item-num\">2.4&nbsp;&nbsp;</span>Распределение выручки по городам, версиям ОС</a></span><ul class=\"toc-item\"><li><span><a href=\"#Распределение-выручки-по-версии-ОС\" data-toc-modified-id=\"Распределение-выручки-по-версии-ОС-2.4.1\"><span class=\"toc-item-num\">2.4.1&nbsp;&nbsp;</span>Распределение выручки по версии ОС</a></span></li><li><span><a href=\"#Распределение-выручки-по-городам\" data-toc-modified-id=\"Распределение-выручки-по-городам-2.4.2\"><span class=\"toc-item-num\">2.4.2&nbsp;&nbsp;</span>Распределение выручки по городам</a></span></li></ul></li><li><span><a href=\"#Распределения-еCPM-по-времени-дня\" data-toc-modified-id=\"Распределения-еCPM-по-времени-дня-2.5\"><span class=\"toc-item-num\">2.5&nbsp;&nbsp;</span>Распределения еCPM по времени дня</a></span></li></ul></li></ul></div>"
   ]
  },
  {
   "cell_type": "markdown",
   "id": "1ed23cd9",
   "metadata": {},
   "source": [
    " # Исследование показов рекламы в мобильной игре"
   ]
  },
  {
   "cell_type": "markdown",
   "id": "1556f7af",
   "metadata": {},
   "source": [
    "Необходимо провести исследование показов рекламы с целью понять на сколько отличается eCPM в зависимости от географии (города) юзера, версии ОС и других параметров.\n",
    "\n",
    "1. Для каждого формата рекламы: \n",
    "* построить распределение средних eCPM юзеров\n",
    "* построить распределение eCPM по городам, версиям ОС\n",
    "* построить распределение доходов по городам, версиям ОС\n",
    "2. \n",
    "3. Описать наблюдения и вывод по исследованию.\n",
    "4. Дополнительно исследовать:\n",
    "* Какой процент доходов содержит информацию о городе юзера\n",
    "* Зависит ли eCPM от времени дня\n",
    "\n",
    "**Описание данных:**\n",
    "\n",
    "Сsv файл, с вложенной таблицей формата json, содержаший информацию о показах рекламы для юзеров США \n",
    "\n",
    "`profile_id` – id юзера\n",
    "\n",
    "`event_json` - содержит данные о событии показа рекламы:\n",
    "\n",
    "`ad_type` – формат рекламы (int, banner или rv)\n",
    "\n",
    "`placement` – когда/где был показ рекламы в игре\n",
    "\n",
    "`view_index` – номер показа конкретного формата рекламы для юзера (не поддерживается для баннеров)\n",
    "\n",
    "`revenue` – доход от конкретного показа рекламы (eCPM = revenue * 1000)\n",
    "\n",
    "`ads_ltv` – накапливающийся доход от рекламы, равен сумме всех revenue юзера\n",
    "\n",
    "`network_name` – рекламная сеть, от которой был показ\n",
    "\n",
    "Форматы показов рекламы:\n",
    "\n",
    "* int – полноэкранная реклама; \n",
    "* banner – горизонтальный баннер, висит внизу экрана пока юзер играет; \n",
    "* rv – видео, которое юзер смотрит по желанию и за просмотр получает монетки или др. ресурсы"
   ]
  },
  {
   "cell_type": "markdown",
   "id": "958816f4",
   "metadata": {},
   "source": [
    "## Изучение и предобработка  данных из файла"
   ]
  },
  {
   "cell_type": "code",
   "execution_count": 1,
   "id": "4b0024ae",
   "metadata": {},
   "outputs": [],
   "source": [
    "import pandas as pd\n",
    "import json\n",
    "import seaborn as sns\n",
    "import matplotlib.pyplot as plt\n",
    "import numpy as np\n",
    "import warnings\n",
    "warnings.filterwarnings('ignore')"
   ]
  },
  {
   "cell_type": "code",
   "execution_count": 2,
   "id": "40dfe71c",
   "metadata": {},
   "outputs": [],
   "source": [
    "df = pd.read_csv(r'C:/Users/Home/datasets/us_events_ad_revenue_filtered_03.02-07.02.csv')"
   ]
  },
  {
   "cell_type": "code",
   "execution_count": 3,
   "id": "313d64ee",
   "metadata": {},
   "outputs": [],
   "source": [
    "def show(df):\n",
    "    for i in [df]:\n",
    "        display(df.head())\n",
    "        df.info()\n",
    "        display(df.isna().sum())#функция для получения информации о датафрейме"
   ]
  },
  {
   "cell_type": "code",
   "execution_count": 4,
   "id": "559fbbd9",
   "metadata": {
    "scrolled": false
   },
   "outputs": [
    {
     "data": {
      "text/html": [
       "<div>\n",
       "<style scoped>\n",
       "    .dataframe tbody tr th:only-of-type {\n",
       "        vertical-align: middle;\n",
       "    }\n",
       "\n",
       "    .dataframe tbody tr th {\n",
       "        vertical-align: top;\n",
       "    }\n",
       "\n",
       "    .dataframe thead th {\n",
       "        text-align: right;\n",
       "    }\n",
       "</style>\n",
       "<table border=\"1\" class=\"dataframe\">\n",
       "  <thead>\n",
       "    <tr style=\"text-align: right;\">\n",
       "      <th></th>\n",
       "      <th>profile_id</th>\n",
       "      <th>os_version</th>\n",
       "      <th>device_manufacturer</th>\n",
       "      <th>device_model</th>\n",
       "      <th>device_type</th>\n",
       "      <th>device_locale</th>\n",
       "      <th>event_name</th>\n",
       "      <th>event_json</th>\n",
       "      <th>event_datetime</th>\n",
       "      <th>event_timestamp</th>\n",
       "      <th>event_receive_datetime</th>\n",
       "      <th>event_receive_timestamp</th>\n",
       "      <th>connection_type</th>\n",
       "      <th>operator_name</th>\n",
       "      <th>country_iso_code</th>\n",
       "      <th>city</th>\n",
       "    </tr>\n",
       "  </thead>\n",
       "  <tbody>\n",
       "    <tr>\n",
       "      <th>0</th>\n",
       "      <td>JLjpGzDHBQm</td>\n",
       "      <td>11</td>\n",
       "      <td>Samsung</td>\n",
       "      <td>Galaxy Tab S6</td>\n",
       "      <td>tablet</td>\n",
       "      <td>en_US</td>\n",
       "      <td>c_ad_revenue</td>\n",
       "      <td>{\"ad_type\":\"banner\",\"placement\":\"\",\"view_index...</td>\n",
       "      <td>2022-02-04 20:02:28</td>\n",
       "      <td>1643994148</td>\n",
       "      <td>2022-02-06 17:58:19</td>\n",
       "      <td>1644159499</td>\n",
       "      <td>wifi</td>\n",
       "      <td>NaN</td>\n",
       "      <td>US</td>\n",
       "      <td>Norwalk</td>\n",
       "    </tr>\n",
       "    <tr>\n",
       "      <th>1</th>\n",
       "      <td>JLjpGzDHBQm</td>\n",
       "      <td>11</td>\n",
       "      <td>Samsung</td>\n",
       "      <td>Galaxy Tab S6</td>\n",
       "      <td>tablet</td>\n",
       "      <td>en_US</td>\n",
       "      <td>c_ad_revenue</td>\n",
       "      <td>{\"ad_type\":\"banner\",\"placement\":\"\",\"view_index...</td>\n",
       "      <td>2022-02-04 20:02:45</td>\n",
       "      <td>1643994165</td>\n",
       "      <td>2022-02-06 17:58:19</td>\n",
       "      <td>1644159499</td>\n",
       "      <td>wifi</td>\n",
       "      <td>NaN</td>\n",
       "      <td>US</td>\n",
       "      <td>Norwalk</td>\n",
       "    </tr>\n",
       "    <tr>\n",
       "      <th>2</th>\n",
       "      <td>JLkVacrzHY6</td>\n",
       "      <td>11</td>\n",
       "      <td>Google</td>\n",
       "      <td>Pixel 2</td>\n",
       "      <td>phone</td>\n",
       "      <td>en_US</td>\n",
       "      <td>c_ad_revenue</td>\n",
       "      <td>{\"ad_type\":\"banner\",\"placement\":\"\",\"view_index...</td>\n",
       "      <td>2022-02-05 17:53:05</td>\n",
       "      <td>1644072785</td>\n",
       "      <td>2022-02-06 16:59:29</td>\n",
       "      <td>1644155969</td>\n",
       "      <td>wifi</td>\n",
       "      <td>Verizon</td>\n",
       "      <td>US</td>\n",
       "      <td>Charlotte</td>\n",
       "    </tr>\n",
       "    <tr>\n",
       "      <th>3</th>\n",
       "      <td>JMC6wG3cX0f</td>\n",
       "      <td>10</td>\n",
       "      <td>Samsung</td>\n",
       "      <td>Galaxy S9</td>\n",
       "      <td>phone</td>\n",
       "      <td>en_US</td>\n",
       "      <td>c_ad_revenue</td>\n",
       "      <td>{\"ad_type\":\"int\",\"placement\":\"next_level\",\"vie...</td>\n",
       "      <td>2022-02-06 17:09:01</td>\n",
       "      <td>1644156541</td>\n",
       "      <td>2022-02-06 17:09:24</td>\n",
       "      <td>1644156564</td>\n",
       "      <td>wifi</td>\n",
       "      <td>T-Mobile</td>\n",
       "      <td>US</td>\n",
       "      <td>Cocoa</td>\n",
       "    </tr>\n",
       "    <tr>\n",
       "      <th>4</th>\n",
       "      <td>JLzWWTJfi1b</td>\n",
       "      <td>10</td>\n",
       "      <td>Samsung</td>\n",
       "      <td>Galaxy S9</td>\n",
       "      <td>phone</td>\n",
       "      <td>en_US</td>\n",
       "      <td>c_ad_revenue</td>\n",
       "      <td>{\"ad_type\":\"banner\",\"placement\":\"\",\"view_index...</td>\n",
       "      <td>2022-02-06 17:15:38</td>\n",
       "      <td>1644156938</td>\n",
       "      <td>2022-02-06 17:16:16</td>\n",
       "      <td>1644156976</td>\n",
       "      <td>cell</td>\n",
       "      <td>Verizon</td>\n",
       "      <td>US</td>\n",
       "      <td>NaN</td>\n",
       "    </tr>\n",
       "  </tbody>\n",
       "</table>\n",
       "</div>"
      ],
      "text/plain": [
       "    profile_id os_version device_manufacturer   device_model device_type  \\\n",
       "0  JLjpGzDHBQm         11             Samsung  Galaxy Tab S6      tablet   \n",
       "1  JLjpGzDHBQm         11             Samsung  Galaxy Tab S6      tablet   \n",
       "2  JLkVacrzHY6         11              Google        Pixel 2       phone   \n",
       "3  JMC6wG3cX0f         10             Samsung      Galaxy S9       phone   \n",
       "4  JLzWWTJfi1b         10             Samsung      Galaxy S9       phone   \n",
       "\n",
       "  device_locale    event_name  \\\n",
       "0         en_US  c_ad_revenue   \n",
       "1         en_US  c_ad_revenue   \n",
       "2         en_US  c_ad_revenue   \n",
       "3         en_US  c_ad_revenue   \n",
       "4         en_US  c_ad_revenue   \n",
       "\n",
       "                                          event_json       event_datetime  \\\n",
       "0  {\"ad_type\":\"banner\",\"placement\":\"\",\"view_index...  2022-02-04 20:02:28   \n",
       "1  {\"ad_type\":\"banner\",\"placement\":\"\",\"view_index...  2022-02-04 20:02:45   \n",
       "2  {\"ad_type\":\"banner\",\"placement\":\"\",\"view_index...  2022-02-05 17:53:05   \n",
       "3  {\"ad_type\":\"int\",\"placement\":\"next_level\",\"vie...  2022-02-06 17:09:01   \n",
       "4  {\"ad_type\":\"banner\",\"placement\":\"\",\"view_index...  2022-02-06 17:15:38   \n",
       "\n",
       "   event_timestamp event_receive_datetime  event_receive_timestamp  \\\n",
       "0       1643994148    2022-02-06 17:58:19               1644159499   \n",
       "1       1643994165    2022-02-06 17:58:19               1644159499   \n",
       "2       1644072785    2022-02-06 16:59:29               1644155969   \n",
       "3       1644156541    2022-02-06 17:09:24               1644156564   \n",
       "4       1644156938    2022-02-06 17:16:16               1644156976   \n",
       "\n",
       "  connection_type operator_name country_iso_code       city  \n",
       "0            wifi           NaN               US    Norwalk  \n",
       "1            wifi           NaN               US    Norwalk  \n",
       "2            wifi       Verizon               US  Charlotte  \n",
       "3            wifi      T-Mobile               US      Cocoa  \n",
       "4            cell      Verizon                US        NaN  "
      ]
     },
     "metadata": {},
     "output_type": "display_data"
    },
    {
     "name": "stdout",
     "output_type": "stream",
     "text": [
      "<class 'pandas.core.frame.DataFrame'>\n",
      "RangeIndex: 860079 entries, 0 to 860078\n",
      "Data columns (total 16 columns):\n",
      " #   Column                   Non-Null Count   Dtype \n",
      "---  ------                   --------------   ----- \n",
      " 0   profile_id               860065 non-null  object\n",
      " 1   os_version               860079 non-null  object\n",
      " 2   device_manufacturer      860079 non-null  object\n",
      " 3   device_model             860079 non-null  object\n",
      " 4   device_type              860079 non-null  object\n",
      " 5   device_locale            860079 non-null  object\n",
      " 6   event_name               860079 non-null  object\n",
      " 7   event_json               860079 non-null  object\n",
      " 8   event_datetime           860079 non-null  object\n",
      " 9   event_timestamp          860079 non-null  int64 \n",
      " 10  event_receive_datetime   860079 non-null  object\n",
      " 11  event_receive_timestamp  860079 non-null  int64 \n",
      " 12  connection_type          860079 non-null  object\n",
      " 13  operator_name            841200 non-null  object\n",
      " 14  country_iso_code         860079 non-null  object\n",
      " 15  city                     536371 non-null  object\n",
      "dtypes: int64(2), object(14)\n",
      "memory usage: 105.0+ MB\n"
     ]
    },
    {
     "data": {
      "text/plain": [
       "profile_id                     14\n",
       "os_version                      0\n",
       "device_manufacturer             0\n",
       "device_model                    0\n",
       "device_type                     0\n",
       "device_locale                   0\n",
       "event_name                      0\n",
       "event_json                      0\n",
       "event_datetime                  0\n",
       "event_timestamp                 0\n",
       "event_receive_datetime          0\n",
       "event_receive_timestamp         0\n",
       "connection_type                 0\n",
       "operator_name               18879\n",
       "country_iso_code                0\n",
       "city                       323708\n",
       "dtype: int64"
      ]
     },
     "metadata": {},
     "output_type": "display_data"
    }
   ],
   "source": [
    "show(df)"
   ]
  },
  {
   "cell_type": "code",
   "execution_count": 5,
   "id": "3ef070b0",
   "metadata": {},
   "outputs": [
    {
     "data": {
      "text/plain": [
       "0"
      ]
     },
     "execution_count": 5,
     "metadata": {},
     "output_type": "execute_result"
    }
   ],
   "source": [
    "df.duplicated().sum()#явные дубликаты"
   ]
  },
  {
   "cell_type": "markdown",
   "id": "642f1095",
   "metadata": {},
   "source": [
    "Распакуем вложенную таблицу"
   ]
  },
  {
   "cell_type": "code",
   "execution_count": 6,
   "id": "e5b6a5e5",
   "metadata": {},
   "outputs": [],
   "source": [
    "event_json = df['event_json']"
   ]
  },
  {
   "cell_type": "code",
   "execution_count": 7,
   "id": "77cbc928",
   "metadata": {},
   "outputs": [],
   "source": [
    "def nze(event_json):\n",
    "    my_details_dict = []\n",
    "    for row in event_json:        \n",
    "        my_details_dict.append(json.loads(row))\n",
    "    return my_details_dict  #функция для десериализации JSON"
   ]
  },
  {
   "cell_type": "code",
   "execution_count": 8,
   "id": "501ab703",
   "metadata": {},
   "outputs": [],
   "source": [
    "event_json = nze(event_json)"
   ]
  },
  {
   "cell_type": "code",
   "execution_count": 9,
   "id": "c5a2f29b",
   "metadata": {},
   "outputs": [],
   "source": [
    "event_json = pd.json_normalize(event_json) #нормализуем данные JSON "
   ]
  },
  {
   "cell_type": "code",
   "execution_count": 10,
   "id": "77fca209",
   "metadata": {
    "scrolled": false
   },
   "outputs": [
    {
     "data": {
      "text/html": [
       "<div>\n",
       "<style scoped>\n",
       "    .dataframe tbody tr th:only-of-type {\n",
       "        vertical-align: middle;\n",
       "    }\n",
       "\n",
       "    .dataframe tbody tr th {\n",
       "        vertical-align: top;\n",
       "    }\n",
       "\n",
       "    .dataframe thead th {\n",
       "        text-align: right;\n",
       "    }\n",
       "</style>\n",
       "<table border=\"1\" class=\"dataframe\">\n",
       "  <thead>\n",
       "    <tr style=\"text-align: right;\">\n",
       "      <th></th>\n",
       "      <th>ad_type</th>\n",
       "      <th>placement</th>\n",
       "      <th>view_index</th>\n",
       "      <th>session_view_index</th>\n",
       "      <th>cur_ticks</th>\n",
       "      <th>session_length</th>\n",
       "      <th>revenue</th>\n",
       "      <th>ads_ltv</th>\n",
       "      <th>ecpm_sma</th>\n",
       "      <th>normalized_ecpm_sma</th>\n",
       "      <th>value</th>\n",
       "      <th>currency</th>\n",
       "      <th>ad_country_code</th>\n",
       "      <th>network_name</th>\n",
       "      <th>ad_unit_id</th>\n",
       "      <th>ad_network_placement</th>\n",
       "      <th>creativeId</th>\n",
       "    </tr>\n",
       "  </thead>\n",
       "  <tbody>\n",
       "    <tr>\n",
       "      <th>0</th>\n",
       "      <td>banner</td>\n",
       "      <td></td>\n",
       "      <td>1</td>\n",
       "      <td>0</td>\n",
       "      <td>637795729492245130</td>\n",
       "      <td>705.88070</td>\n",
       "      <td>0.000510</td>\n",
       "      <td>0.487877</td>\n",
       "      <td>0.511508</td>\n",
       "      <td>0.511508</td>\n",
       "      <td>0.000510</td>\n",
       "      <td>USD</td>\n",
       "      <td>US</td>\n",
       "      <td>Google AdMob</td>\n",
       "      <td>64c6b1114ea8c1cc</td>\n",
       "      <td>ca-app-pub-7511632782617496/8825263691</td>\n",
       "      <td>CJ3XirfD5vUCFYPnKAUdG3MOYQ</td>\n",
       "    </tr>\n",
       "    <tr>\n",
       "      <th>1</th>\n",
       "      <td>banner</td>\n",
       "      <td></td>\n",
       "      <td>1</td>\n",
       "      <td>0</td>\n",
       "      <td>637795729659949790</td>\n",
       "      <td>722.65120</td>\n",
       "      <td>0.000510</td>\n",
       "      <td>0.488387</td>\n",
       "      <td>0.511389</td>\n",
       "      <td>0.511389</td>\n",
       "      <td>0.000510</td>\n",
       "      <td>USD</td>\n",
       "      <td>US</td>\n",
       "      <td>Google AdMob</td>\n",
       "      <td>64c6b1114ea8c1cc</td>\n",
       "      <td>ca-app-pub-7511632782617496/8825263691</td>\n",
       "      <td>CNa-lL_D5vUCFZrpKAUdU2QBDQ</td>\n",
       "    </tr>\n",
       "    <tr>\n",
       "      <th>2</th>\n",
       "      <td>banner</td>\n",
       "      <td></td>\n",
       "      <td>1</td>\n",
       "      <td>0</td>\n",
       "      <td>637796515863735930</td>\n",
       "      <td>431.81290</td>\n",
       "      <td>0.002386</td>\n",
       "      <td>0.678479</td>\n",
       "      <td>0.928597</td>\n",
       "      <td>0.928597</td>\n",
       "      <td>0.002386</td>\n",
       "      <td>USD</td>\n",
       "      <td>US</td>\n",
       "      <td>APPLOVIN_EXCHANGE</td>\n",
       "      <td>64c6b1114ea8c1cc</td>\n",
       "      <td>banner_regular</td>\n",
       "      <td>pandora-58</td>\n",
       "    </tr>\n",
       "    <tr>\n",
       "      <th>3</th>\n",
       "      <td>int</td>\n",
       "      <td>next_level</td>\n",
       "      <td>1</td>\n",
       "      <td>1</td>\n",
       "      <td>637797353426827330</td>\n",
       "      <td>125.94960</td>\n",
       "      <td>0.013894</td>\n",
       "      <td>0.013894</td>\n",
       "      <td>13.782633</td>\n",
       "      <td>13.893784</td>\n",
       "      <td>0.013894</td>\n",
       "      <td>USD</td>\n",
       "      <td>US</td>\n",
       "      <td>AppLovin</td>\n",
       "      <td>3ab7705b07ebb75f</td>\n",
       "      <td>inter_regular</td>\n",
       "      <td>13045364</td>\n",
       "    </tr>\n",
       "    <tr>\n",
       "      <th>4</th>\n",
       "      <td>banner</td>\n",
       "      <td></td>\n",
       "      <td>1</td>\n",
       "      <td>0</td>\n",
       "      <td>637797357392197840</td>\n",
       "      <td>12.71129</td>\n",
       "      <td>0.006828</td>\n",
       "      <td>0.060571</td>\n",
       "      <td>1.660282</td>\n",
       "      <td>1.660282</td>\n",
       "      <td>0.006828</td>\n",
       "      <td>USD</td>\n",
       "      <td>US</td>\n",
       "      <td>Google AdMob</td>\n",
       "      <td>64c6b1114ea8c1cc</td>\n",
       "      <td>ca-app-pub-7511632782617496/6197324251</td>\n",
       "      <td>CMTi5e-h6_UCFUdVwQodt9EIMw</td>\n",
       "    </tr>\n",
       "  </tbody>\n",
       "</table>\n",
       "</div>"
      ],
      "text/plain": [
       "  ad_type   placement  view_index  session_view_index           cur_ticks  \\\n",
       "0  banner                       1                   0  637795729492245130   \n",
       "1  banner                       1                   0  637795729659949790   \n",
       "2  banner                       1                   0  637796515863735930   \n",
       "3     int  next_level           1                   1  637797353426827330   \n",
       "4  banner                       1                   0  637797357392197840   \n",
       "\n",
       "   session_length   revenue   ads_ltv   ecpm_sma  normalized_ecpm_sma  \\\n",
       "0       705.88070  0.000510  0.487877   0.511508             0.511508   \n",
       "1       722.65120  0.000510  0.488387   0.511389             0.511389   \n",
       "2       431.81290  0.002386  0.678479   0.928597             0.928597   \n",
       "3       125.94960  0.013894  0.013894  13.782633            13.893784   \n",
       "4        12.71129  0.006828  0.060571   1.660282             1.660282   \n",
       "\n",
       "      value currency ad_country_code       network_name        ad_unit_id  \\\n",
       "0  0.000510      USD              US       Google AdMob  64c6b1114ea8c1cc   \n",
       "1  0.000510      USD              US       Google AdMob  64c6b1114ea8c1cc   \n",
       "2  0.002386      USD              US  APPLOVIN_EXCHANGE  64c6b1114ea8c1cc   \n",
       "3  0.013894      USD              US           AppLovin  3ab7705b07ebb75f   \n",
       "4  0.006828      USD              US       Google AdMob  64c6b1114ea8c1cc   \n",
       "\n",
       "                     ad_network_placement                  creativeId  \n",
       "0  ca-app-pub-7511632782617496/8825263691  CJ3XirfD5vUCFYPnKAUdG3MOYQ  \n",
       "1  ca-app-pub-7511632782617496/8825263691  CNa-lL_D5vUCFZrpKAUdU2QBDQ  \n",
       "2                          banner_regular                  pandora-58  \n",
       "3                           inter_regular                    13045364  \n",
       "4  ca-app-pub-7511632782617496/6197324251  CMTi5e-h6_UCFUdVwQodt9EIMw  "
      ]
     },
     "metadata": {},
     "output_type": "display_data"
    },
    {
     "name": "stdout",
     "output_type": "stream",
     "text": [
      "<class 'pandas.core.frame.DataFrame'>\n",
      "RangeIndex: 860079 entries, 0 to 860078\n",
      "Data columns (total 17 columns):\n",
      " #   Column                Non-Null Count   Dtype  \n",
      "---  ------                --------------   -----  \n",
      " 0   ad_type               860079 non-null  object \n",
      " 1   placement             860079 non-null  object \n",
      " 2   view_index            860079 non-null  int64  \n",
      " 3   session_view_index    860079 non-null  int64  \n",
      " 4   cur_ticks             860079 non-null  int64  \n",
      " 5   session_length        860079 non-null  float64\n",
      " 6   revenue               860079 non-null  float64\n",
      " 7   ads_ltv               860079 non-null  float64\n",
      " 8   ecpm_sma              860079 non-null  float64\n",
      " 9   normalized_ecpm_sma   860079 non-null  float64\n",
      " 10  value                 860079 non-null  float64\n",
      " 11  currency              860079 non-null  object \n",
      " 12  ad_country_code       860079 non-null  object \n",
      " 13  network_name          860079 non-null  object \n",
      " 14  ad_unit_id            860079 non-null  object \n",
      " 15  ad_network_placement  860079 non-null  object \n",
      " 16  creativeId            860079 non-null  object \n",
      "dtypes: float64(6), int64(3), object(8)\n",
      "memory usage: 111.6+ MB\n"
     ]
    },
    {
     "data": {
      "text/plain": [
       "ad_type                 0\n",
       "placement               0\n",
       "view_index              0\n",
       "session_view_index      0\n",
       "cur_ticks               0\n",
       "session_length          0\n",
       "revenue                 0\n",
       "ads_ltv                 0\n",
       "ecpm_sma                0\n",
       "normalized_ecpm_sma     0\n",
       "value                   0\n",
       "currency                0\n",
       "ad_country_code         0\n",
       "network_name            0\n",
       "ad_unit_id              0\n",
       "ad_network_placement    0\n",
       "creativeId              0\n",
       "dtype: int64"
      ]
     },
     "metadata": {},
     "output_type": "display_data"
    }
   ],
   "source": [
    "show(event_json)"
   ]
  },
  {
   "cell_type": "code",
   "execution_count": 11,
   "id": "26322ae6",
   "metadata": {},
   "outputs": [
    {
     "data": {
      "text/plain": [
       "3"
      ]
     },
     "execution_count": 11,
     "metadata": {},
     "output_type": "execute_result"
    }
   ],
   "source": [
    "event_json.duplicated().sum()#явные дубликаты"
   ]
  },
  {
   "cell_type": "code",
   "execution_count": 12,
   "id": "62e449e2",
   "metadata": {},
   "outputs": [
    {
     "data": {
      "text/plain": [
       "Int64Index([163426, 163427, 163428, 163429, 531954, 531963], dtype='int64')"
      ]
     },
     "execution_count": 12,
     "metadata": {},
     "output_type": "execute_result"
    }
   ],
   "source": [
    "event_json[event_json.duplicated(keep=False)].index #индексы дубликатов"
   ]
  },
  {
   "cell_type": "code",
   "execution_count": 13,
   "id": "411eebd5",
   "metadata": {},
   "outputs": [],
   "source": [
    "combined = df.drop(['event_json'], axis = 1).join(event_json)#объеденим датафреймы"
   ]
  },
  {
   "cell_type": "code",
   "execution_count": 14,
   "id": "9b80264c",
   "metadata": {
    "scrolled": false
   },
   "outputs": [
    {
     "data": {
      "text/html": [
       "<div>\n",
       "<style scoped>\n",
       "    .dataframe tbody tr th:only-of-type {\n",
       "        vertical-align: middle;\n",
       "    }\n",
       "\n",
       "    .dataframe tbody tr th {\n",
       "        vertical-align: top;\n",
       "    }\n",
       "\n",
       "    .dataframe thead th {\n",
       "        text-align: right;\n",
       "    }\n",
       "</style>\n",
       "<table border=\"1\" class=\"dataframe\">\n",
       "  <thead>\n",
       "    <tr style=\"text-align: right;\">\n",
       "      <th></th>\n",
       "      <th>profile_id</th>\n",
       "      <th>os_version</th>\n",
       "      <th>device_manufacturer</th>\n",
       "      <th>device_model</th>\n",
       "      <th>device_type</th>\n",
       "      <th>device_locale</th>\n",
       "      <th>event_name</th>\n",
       "      <th>event_datetime</th>\n",
       "      <th>event_timestamp</th>\n",
       "      <th>event_receive_datetime</th>\n",
       "      <th>...</th>\n",
       "      <th>ads_ltv</th>\n",
       "      <th>ecpm_sma</th>\n",
       "      <th>normalized_ecpm_sma</th>\n",
       "      <th>value</th>\n",
       "      <th>currency</th>\n",
       "      <th>ad_country_code</th>\n",
       "      <th>network_name</th>\n",
       "      <th>ad_unit_id</th>\n",
       "      <th>ad_network_placement</th>\n",
       "      <th>creativeId</th>\n",
       "    </tr>\n",
       "  </thead>\n",
       "  <tbody>\n",
       "    <tr>\n",
       "      <th>0</th>\n",
       "      <td>JLjpGzDHBQm</td>\n",
       "      <td>11</td>\n",
       "      <td>Samsung</td>\n",
       "      <td>Galaxy Tab S6</td>\n",
       "      <td>tablet</td>\n",
       "      <td>en_US</td>\n",
       "      <td>c_ad_revenue</td>\n",
       "      <td>2022-02-04 20:02:28</td>\n",
       "      <td>1643994148</td>\n",
       "      <td>2022-02-06 17:58:19</td>\n",
       "      <td>...</td>\n",
       "      <td>0.487877</td>\n",
       "      <td>0.511508</td>\n",
       "      <td>0.511508</td>\n",
       "      <td>0.000510</td>\n",
       "      <td>USD</td>\n",
       "      <td>US</td>\n",
       "      <td>Google AdMob</td>\n",
       "      <td>64c6b1114ea8c1cc</td>\n",
       "      <td>ca-app-pub-7511632782617496/8825263691</td>\n",
       "      <td>CJ3XirfD5vUCFYPnKAUdG3MOYQ</td>\n",
       "    </tr>\n",
       "    <tr>\n",
       "      <th>1</th>\n",
       "      <td>JLjpGzDHBQm</td>\n",
       "      <td>11</td>\n",
       "      <td>Samsung</td>\n",
       "      <td>Galaxy Tab S6</td>\n",
       "      <td>tablet</td>\n",
       "      <td>en_US</td>\n",
       "      <td>c_ad_revenue</td>\n",
       "      <td>2022-02-04 20:02:45</td>\n",
       "      <td>1643994165</td>\n",
       "      <td>2022-02-06 17:58:19</td>\n",
       "      <td>...</td>\n",
       "      <td>0.488387</td>\n",
       "      <td>0.511389</td>\n",
       "      <td>0.511389</td>\n",
       "      <td>0.000510</td>\n",
       "      <td>USD</td>\n",
       "      <td>US</td>\n",
       "      <td>Google AdMob</td>\n",
       "      <td>64c6b1114ea8c1cc</td>\n",
       "      <td>ca-app-pub-7511632782617496/8825263691</td>\n",
       "      <td>CNa-lL_D5vUCFZrpKAUdU2QBDQ</td>\n",
       "    </tr>\n",
       "    <tr>\n",
       "      <th>2</th>\n",
       "      <td>JLkVacrzHY6</td>\n",
       "      <td>11</td>\n",
       "      <td>Google</td>\n",
       "      <td>Pixel 2</td>\n",
       "      <td>phone</td>\n",
       "      <td>en_US</td>\n",
       "      <td>c_ad_revenue</td>\n",
       "      <td>2022-02-05 17:53:05</td>\n",
       "      <td>1644072785</td>\n",
       "      <td>2022-02-06 16:59:29</td>\n",
       "      <td>...</td>\n",
       "      <td>0.678479</td>\n",
       "      <td>0.928597</td>\n",
       "      <td>0.928597</td>\n",
       "      <td>0.002386</td>\n",
       "      <td>USD</td>\n",
       "      <td>US</td>\n",
       "      <td>APPLOVIN_EXCHANGE</td>\n",
       "      <td>64c6b1114ea8c1cc</td>\n",
       "      <td>banner_regular</td>\n",
       "      <td>pandora-58</td>\n",
       "    </tr>\n",
       "    <tr>\n",
       "      <th>3</th>\n",
       "      <td>JMC6wG3cX0f</td>\n",
       "      <td>10</td>\n",
       "      <td>Samsung</td>\n",
       "      <td>Galaxy S9</td>\n",
       "      <td>phone</td>\n",
       "      <td>en_US</td>\n",
       "      <td>c_ad_revenue</td>\n",
       "      <td>2022-02-06 17:09:01</td>\n",
       "      <td>1644156541</td>\n",
       "      <td>2022-02-06 17:09:24</td>\n",
       "      <td>...</td>\n",
       "      <td>0.013894</td>\n",
       "      <td>13.782633</td>\n",
       "      <td>13.893784</td>\n",
       "      <td>0.013894</td>\n",
       "      <td>USD</td>\n",
       "      <td>US</td>\n",
       "      <td>AppLovin</td>\n",
       "      <td>3ab7705b07ebb75f</td>\n",
       "      <td>inter_regular</td>\n",
       "      <td>13045364</td>\n",
       "    </tr>\n",
       "    <tr>\n",
       "      <th>4</th>\n",
       "      <td>JLzWWTJfi1b</td>\n",
       "      <td>10</td>\n",
       "      <td>Samsung</td>\n",
       "      <td>Galaxy S9</td>\n",
       "      <td>phone</td>\n",
       "      <td>en_US</td>\n",
       "      <td>c_ad_revenue</td>\n",
       "      <td>2022-02-06 17:15:38</td>\n",
       "      <td>1644156938</td>\n",
       "      <td>2022-02-06 17:16:16</td>\n",
       "      <td>...</td>\n",
       "      <td>0.060571</td>\n",
       "      <td>1.660282</td>\n",
       "      <td>1.660282</td>\n",
       "      <td>0.006828</td>\n",
       "      <td>USD</td>\n",
       "      <td>US</td>\n",
       "      <td>Google AdMob</td>\n",
       "      <td>64c6b1114ea8c1cc</td>\n",
       "      <td>ca-app-pub-7511632782617496/6197324251</td>\n",
       "      <td>CMTi5e-h6_UCFUdVwQodt9EIMw</td>\n",
       "    </tr>\n",
       "  </tbody>\n",
       "</table>\n",
       "<p>5 rows × 32 columns</p>\n",
       "</div>"
      ],
      "text/plain": [
       "    profile_id os_version device_manufacturer   device_model device_type  \\\n",
       "0  JLjpGzDHBQm         11             Samsung  Galaxy Tab S6      tablet   \n",
       "1  JLjpGzDHBQm         11             Samsung  Galaxy Tab S6      tablet   \n",
       "2  JLkVacrzHY6         11              Google        Pixel 2       phone   \n",
       "3  JMC6wG3cX0f         10             Samsung      Galaxy S9       phone   \n",
       "4  JLzWWTJfi1b         10             Samsung      Galaxy S9       phone   \n",
       "\n",
       "  device_locale    event_name       event_datetime  event_timestamp  \\\n",
       "0         en_US  c_ad_revenue  2022-02-04 20:02:28       1643994148   \n",
       "1         en_US  c_ad_revenue  2022-02-04 20:02:45       1643994165   \n",
       "2         en_US  c_ad_revenue  2022-02-05 17:53:05       1644072785   \n",
       "3         en_US  c_ad_revenue  2022-02-06 17:09:01       1644156541   \n",
       "4         en_US  c_ad_revenue  2022-02-06 17:15:38       1644156938   \n",
       "\n",
       "  event_receive_datetime  ...   ads_ltv   ecpm_sma normalized_ecpm_sma  \\\n",
       "0    2022-02-06 17:58:19  ...  0.487877   0.511508            0.511508   \n",
       "1    2022-02-06 17:58:19  ...  0.488387   0.511389            0.511389   \n",
       "2    2022-02-06 16:59:29  ...  0.678479   0.928597            0.928597   \n",
       "3    2022-02-06 17:09:24  ...  0.013894  13.782633           13.893784   \n",
       "4    2022-02-06 17:16:16  ...  0.060571   1.660282            1.660282   \n",
       "\n",
       "      value currency ad_country_code       network_name        ad_unit_id  \\\n",
       "0  0.000510      USD              US       Google AdMob  64c6b1114ea8c1cc   \n",
       "1  0.000510      USD              US       Google AdMob  64c6b1114ea8c1cc   \n",
       "2  0.002386      USD              US  APPLOVIN_EXCHANGE  64c6b1114ea8c1cc   \n",
       "3  0.013894      USD              US           AppLovin  3ab7705b07ebb75f   \n",
       "4  0.006828      USD              US       Google AdMob  64c6b1114ea8c1cc   \n",
       "\n",
       "                     ad_network_placement                  creativeId  \n",
       "0  ca-app-pub-7511632782617496/8825263691  CJ3XirfD5vUCFYPnKAUdG3MOYQ  \n",
       "1  ca-app-pub-7511632782617496/8825263691  CNa-lL_D5vUCFZrpKAUdU2QBDQ  \n",
       "2                          banner_regular                  pandora-58  \n",
       "3                           inter_regular                    13045364  \n",
       "4  ca-app-pub-7511632782617496/6197324251  CMTi5e-h6_UCFUdVwQodt9EIMw  \n",
       "\n",
       "[5 rows x 32 columns]"
      ]
     },
     "metadata": {},
     "output_type": "display_data"
    },
    {
     "name": "stdout",
     "output_type": "stream",
     "text": [
      "<class 'pandas.core.frame.DataFrame'>\n",
      "RangeIndex: 860079 entries, 0 to 860078\n",
      "Data columns (total 32 columns):\n",
      " #   Column                   Non-Null Count   Dtype  \n",
      "---  ------                   --------------   -----  \n",
      " 0   profile_id               860065 non-null  object \n",
      " 1   os_version               860079 non-null  object \n",
      " 2   device_manufacturer      860079 non-null  object \n",
      " 3   device_model             860079 non-null  object \n",
      " 4   device_type              860079 non-null  object \n",
      " 5   device_locale            860079 non-null  object \n",
      " 6   event_name               860079 non-null  object \n",
      " 7   event_datetime           860079 non-null  object \n",
      " 8   event_timestamp          860079 non-null  int64  \n",
      " 9   event_receive_datetime   860079 non-null  object \n",
      " 10  event_receive_timestamp  860079 non-null  int64  \n",
      " 11  connection_type          860079 non-null  object \n",
      " 12  operator_name            841200 non-null  object \n",
      " 13  country_iso_code         860079 non-null  object \n",
      " 14  city                     536371 non-null  object \n",
      " 15  ad_type                  860079 non-null  object \n",
      " 16  placement                860079 non-null  object \n",
      " 17  view_index               860079 non-null  int64  \n",
      " 18  session_view_index       860079 non-null  int64  \n",
      " 19  cur_ticks                860079 non-null  int64  \n",
      " 20  session_length           860079 non-null  float64\n",
      " 21  revenue                  860079 non-null  float64\n",
      " 22  ads_ltv                  860079 non-null  float64\n",
      " 23  ecpm_sma                 860079 non-null  float64\n",
      " 24  normalized_ecpm_sma      860079 non-null  float64\n",
      " 25  value                    860079 non-null  float64\n",
      " 26  currency                 860079 non-null  object \n",
      " 27  ad_country_code          860079 non-null  object \n",
      " 28  network_name             860079 non-null  object \n",
      " 29  ad_unit_id               860079 non-null  object \n",
      " 30  ad_network_placement     860079 non-null  object \n",
      " 31  creativeId               860079 non-null  object \n",
      "dtypes: float64(6), int64(5), object(21)\n",
      "memory usage: 210.0+ MB\n"
     ]
    },
    {
     "data": {
      "text/plain": [
       "profile_id                     14\n",
       "os_version                      0\n",
       "device_manufacturer             0\n",
       "device_model                    0\n",
       "device_type                     0\n",
       "device_locale                   0\n",
       "event_name                      0\n",
       "event_datetime                  0\n",
       "event_timestamp                 0\n",
       "event_receive_datetime          0\n",
       "event_receive_timestamp         0\n",
       "connection_type                 0\n",
       "operator_name               18879\n",
       "country_iso_code                0\n",
       "city                       323708\n",
       "ad_type                         0\n",
       "placement                       0\n",
       "view_index                      0\n",
       "session_view_index              0\n",
       "cur_ticks                       0\n",
       "session_length                  0\n",
       "revenue                         0\n",
       "ads_ltv                         0\n",
       "ecpm_sma                        0\n",
       "normalized_ecpm_sma             0\n",
       "value                           0\n",
       "currency                        0\n",
       "ad_country_code                 0\n",
       "network_name                    0\n",
       "ad_unit_id                      0\n",
       "ad_network_placement            0\n",
       "creativeId                      0\n",
       "dtype: int64"
      ]
     },
     "metadata": {},
     "output_type": "display_data"
    }
   ],
   "source": [
    "show(combined)"
   ]
  },
  {
   "cell_type": "code",
   "execution_count": 15,
   "id": "224f329a",
   "metadata": {
    "scrolled": true
   },
   "outputs": [
    {
     "data": {
      "text/plain": [
       "117"
      ]
     },
     "execution_count": 15,
     "metadata": {},
     "output_type": "execute_result"
    }
   ],
   "source": [
    "combined['ad_country_code'].value_counts()[1:].sum() \n",
    "#количество ad_country_code с меткой не из US, около 0,01%,"
   ]
  },
  {
   "cell_type": "code",
   "execution_count": 16,
   "id": "b5b3aeea",
   "metadata": {
    "scrolled": true
   },
   "outputs": [
    {
     "data": {
      "text/html": [
       "<div>\n",
       "<style scoped>\n",
       "    .dataframe tbody tr th:only-of-type {\n",
       "        vertical-align: middle;\n",
       "    }\n",
       "\n",
       "    .dataframe tbody tr th {\n",
       "        vertical-align: top;\n",
       "    }\n",
       "\n",
       "    .dataframe thead th {\n",
       "        text-align: right;\n",
       "    }\n",
       "</style>\n",
       "<table border=\"1\" class=\"dataframe\">\n",
       "  <thead>\n",
       "    <tr style=\"text-align: right;\">\n",
       "      <th></th>\n",
       "      <th>profile_id</th>\n",
       "      <th>os_version</th>\n",
       "      <th>device_manufacturer</th>\n",
       "      <th>device_model</th>\n",
       "      <th>device_type</th>\n",
       "      <th>device_locale</th>\n",
       "      <th>event_name</th>\n",
       "      <th>event_datetime</th>\n",
       "      <th>event_timestamp</th>\n",
       "      <th>event_receive_datetime</th>\n",
       "      <th>...</th>\n",
       "      <th>ads_ltv</th>\n",
       "      <th>ecpm_sma</th>\n",
       "      <th>normalized_ecpm_sma</th>\n",
       "      <th>value</th>\n",
       "      <th>currency</th>\n",
       "      <th>ad_country_code</th>\n",
       "      <th>network_name</th>\n",
       "      <th>ad_unit_id</th>\n",
       "      <th>ad_network_placement</th>\n",
       "      <th>creativeId</th>\n",
       "    </tr>\n",
       "  </thead>\n",
       "  <tbody>\n",
       "    <tr>\n",
       "      <th>163426</th>\n",
       "      <td>JLr3Qr9dydo</td>\n",
       "      <td>12</td>\n",
       "      <td>Samsung</td>\n",
       "      <td>Galaxy S21 Ultra 5G</td>\n",
       "      <td>phone</td>\n",
       "      <td>en_US</td>\n",
       "      <td>c_ad_revenue</td>\n",
       "      <td>2022-02-05 04:14:09</td>\n",
       "      <td>1644023649</td>\n",
       "      <td>2022-02-05 04:14:28</td>\n",
       "      <td>...</td>\n",
       "      <td>0.944953</td>\n",
       "      <td>2.020645</td>\n",
       "      <td>2.020645</td>\n",
       "      <td>0.002021</td>\n",
       "      <td>USD</td>\n",
       "      <td>US</td>\n",
       "      <td>Google AdMob</td>\n",
       "      <td>64c6b1114ea8c1cc</td>\n",
       "      <td>ca-app-pub-7511632782617496/4884242584</td>\n",
       "      <td>CODYwZSq5_UCFREFigMdoygPKQ</td>\n",
       "    </tr>\n",
       "    <tr>\n",
       "      <th>163427</th>\n",
       "      <td>JLr3Qr9dydo</td>\n",
       "      <td>12</td>\n",
       "      <td>Samsung</td>\n",
       "      <td>Galaxy S21 Ultra 5G</td>\n",
       "      <td>phone</td>\n",
       "      <td>en_US</td>\n",
       "      <td>c_ad_revenue</td>\n",
       "      <td>2022-02-05 04:14:18</td>\n",
       "      <td>1644023658</td>\n",
       "      <td>2022-02-05 04:14:28</td>\n",
       "      <td>...</td>\n",
       "      <td>0.946974</td>\n",
       "      <td>2.020645</td>\n",
       "      <td>2.020645</td>\n",
       "      <td>0.002021</td>\n",
       "      <td>USD</td>\n",
       "      <td>US</td>\n",
       "      <td>Google AdMob</td>\n",
       "      <td>64c6b1114ea8c1cc</td>\n",
       "      <td>ca-app-pub-7511632782617496/4884242584</td>\n",
       "      <td>CPXO066x5_UCFScGigMdvCwIgQ</td>\n",
       "    </tr>\n",
       "  </tbody>\n",
       "</table>\n",
       "<p>2 rows × 32 columns</p>\n",
       "</div>"
      ],
      "text/plain": [
       "         profile_id os_version device_manufacturer         device_model  \\\n",
       "163426  JLr3Qr9dydo         12             Samsung  Galaxy S21 Ultra 5G   \n",
       "163427  JLr3Qr9dydo         12             Samsung  Galaxy S21 Ultra 5G   \n",
       "\n",
       "       device_type device_locale    event_name       event_datetime  \\\n",
       "163426       phone         en_US  c_ad_revenue  2022-02-05 04:14:09   \n",
       "163427       phone         en_US  c_ad_revenue  2022-02-05 04:14:18   \n",
       "\n",
       "        event_timestamp event_receive_datetime  ...   ads_ltv  ecpm_sma  \\\n",
       "163426       1644023649    2022-02-05 04:14:28  ...  0.944953  2.020645   \n",
       "163427       1644023658    2022-02-05 04:14:28  ...  0.946974  2.020645   \n",
       "\n",
       "       normalized_ecpm_sma     value currency ad_country_code  network_name  \\\n",
       "163426            2.020645  0.002021      USD              US  Google AdMob   \n",
       "163427            2.020645  0.002021      USD              US  Google AdMob   \n",
       "\n",
       "              ad_unit_id                    ad_network_placement  \\\n",
       "163426  64c6b1114ea8c1cc  ca-app-pub-7511632782617496/4884242584   \n",
       "163427  64c6b1114ea8c1cc  ca-app-pub-7511632782617496/4884242584   \n",
       "\n",
       "                        creativeId  \n",
       "163426  CODYwZSq5_UCFREFigMdoygPKQ  \n",
       "163427  CPXO066x5_UCFScGigMdvCwIgQ  \n",
       "\n",
       "[2 rows x 32 columns]"
      ]
     },
     "execution_count": 16,
     "metadata": {},
     "output_type": "execute_result"
    }
   ],
   "source": [
    "combined.loc[df.index.isin(event_json[event_json.duplicated(keep=False)].index)].head(2)\n",
    "# дубликаты таблицы event_json полсе объеденения таблиц"
   ]
  },
  {
   "cell_type": "code",
   "execution_count": 17,
   "id": "23ea9e3d",
   "metadata": {},
   "outputs": [
    {
     "data": {
      "text/plain": [
       "0"
      ]
     },
     "execution_count": 17,
     "metadata": {},
     "output_type": "execute_result"
    }
   ],
   "source": [
    "combined.duplicated().sum()#явные дубликаты объединенной таблицы"
   ]
  },
  {
   "cell_type": "code",
   "execution_count": 18,
   "id": "e6b116a6",
   "metadata": {
    "scrolled": false
   },
   "outputs": [
    {
     "data": {
      "text/html": [
       "<style type=\"text/css\">\n",
       "</style>\n",
       "<table id=\"T_6f448_\">\n",
       "  <thead>\n",
       "    <tr>\n",
       "      <th class=\"blank level0\" >&nbsp;</th>\n",
       "      <th class=\"col_heading level0 col0\" >column_name</th>\n",
       "      <th class=\"col_heading level0 col1\" >missing_value</th>\n",
       "    </tr>\n",
       "  </thead>\n",
       "  <tbody>\n",
       "    <tr>\n",
       "      <th id=\"T_6f448_level0_row0\" class=\"row_heading level0 row0\" >14</th>\n",
       "      <td id=\"T_6f448_row0_col0\" class=\"data row0 col0\" >city</td>\n",
       "      <td id=\"T_6f448_row0_col1\" class=\"data row0 col1\" >37.6370%</td>\n",
       "    </tr>\n",
       "    <tr>\n",
       "      <th id=\"T_6f448_level0_row1\" class=\"row_heading level0 row1\" >12</th>\n",
       "      <td id=\"T_6f448_row1_col0\" class=\"data row1 col0\" >operator_name</td>\n",
       "      <td id=\"T_6f448_row1_col1\" class=\"data row1 col1\" >2.1950%</td>\n",
       "    </tr>\n",
       "    <tr>\n",
       "      <th id=\"T_6f448_level0_row2\" class=\"row_heading level0 row2\" >0</th>\n",
       "      <td id=\"T_6f448_row2_col0\" class=\"data row2 col0\" >profile_id</td>\n",
       "      <td id=\"T_6f448_row2_col1\" class=\"data row2 col1\" >0.0016%</td>\n",
       "    </tr>\n",
       "    <tr>\n",
       "      <th id=\"T_6f448_level0_row3\" class=\"row_heading level0 row3\" >23</th>\n",
       "      <td id=\"T_6f448_row3_col0\" class=\"data row3 col0\" >ecpm_sma</td>\n",
       "      <td id=\"T_6f448_row3_col1\" class=\"data row3 col1\" >0.0000%</td>\n",
       "    </tr>\n",
       "    <tr>\n",
       "      <th id=\"T_6f448_level0_row4\" class=\"row_heading level0 row4\" >19</th>\n",
       "      <td id=\"T_6f448_row4_col0\" class=\"data row4 col0\" >cur_ticks</td>\n",
       "      <td id=\"T_6f448_row4_col1\" class=\"data row4 col1\" >0.0000%</td>\n",
       "    </tr>\n",
       "    <tr>\n",
       "      <th id=\"T_6f448_level0_row5\" class=\"row_heading level0 row5\" >20</th>\n",
       "      <td id=\"T_6f448_row5_col0\" class=\"data row5 col0\" >session_length</td>\n",
       "      <td id=\"T_6f448_row5_col1\" class=\"data row5 col1\" >0.0000%</td>\n",
       "    </tr>\n",
       "    <tr>\n",
       "      <th id=\"T_6f448_level0_row6\" class=\"row_heading level0 row6\" >21</th>\n",
       "      <td id=\"T_6f448_row6_col0\" class=\"data row6 col0\" >revenue</td>\n",
       "      <td id=\"T_6f448_row6_col1\" class=\"data row6 col1\" >0.0000%</td>\n",
       "    </tr>\n",
       "    <tr>\n",
       "      <th id=\"T_6f448_level0_row7\" class=\"row_heading level0 row7\" >22</th>\n",
       "      <td id=\"T_6f448_row7_col0\" class=\"data row7 col0\" >ads_ltv</td>\n",
       "      <td id=\"T_6f448_row7_col1\" class=\"data row7 col1\" >0.0000%</td>\n",
       "    </tr>\n",
       "    <tr>\n",
       "      <th id=\"T_6f448_level0_row8\" class=\"row_heading level0 row8\" >24</th>\n",
       "      <td id=\"T_6f448_row8_col0\" class=\"data row8 col0\" >normalized_ecpm_sma</td>\n",
       "      <td id=\"T_6f448_row8_col1\" class=\"data row8 col1\" >0.0000%</td>\n",
       "    </tr>\n",
       "    <tr>\n",
       "      <th id=\"T_6f448_level0_row9\" class=\"row_heading level0 row9\" >17</th>\n",
       "      <td id=\"T_6f448_row9_col0\" class=\"data row9 col0\" >view_index</td>\n",
       "      <td id=\"T_6f448_row9_col1\" class=\"data row9 col1\" >0.0000%</td>\n",
       "    </tr>\n",
       "    <tr>\n",
       "      <th id=\"T_6f448_level0_row10\" class=\"row_heading level0 row10\" >25</th>\n",
       "      <td id=\"T_6f448_row10_col0\" class=\"data row10 col0\" >value</td>\n",
       "      <td id=\"T_6f448_row10_col1\" class=\"data row10 col1\" >0.0000%</td>\n",
       "    </tr>\n",
       "    <tr>\n",
       "      <th id=\"T_6f448_level0_row11\" class=\"row_heading level0 row11\" >26</th>\n",
       "      <td id=\"T_6f448_row11_col0\" class=\"data row11 col0\" >currency</td>\n",
       "      <td id=\"T_6f448_row11_col1\" class=\"data row11 col1\" >0.0000%</td>\n",
       "    </tr>\n",
       "    <tr>\n",
       "      <th id=\"T_6f448_level0_row12\" class=\"row_heading level0 row12\" >27</th>\n",
       "      <td id=\"T_6f448_row12_col0\" class=\"data row12 col0\" >ad_country_code</td>\n",
       "      <td id=\"T_6f448_row12_col1\" class=\"data row12 col1\" >0.0000%</td>\n",
       "    </tr>\n",
       "    <tr>\n",
       "      <th id=\"T_6f448_level0_row13\" class=\"row_heading level0 row13\" >28</th>\n",
       "      <td id=\"T_6f448_row13_col0\" class=\"data row13 col0\" >network_name</td>\n",
       "      <td id=\"T_6f448_row13_col1\" class=\"data row13 col1\" >0.0000%</td>\n",
       "    </tr>\n",
       "    <tr>\n",
       "      <th id=\"T_6f448_level0_row14\" class=\"row_heading level0 row14\" >29</th>\n",
       "      <td id=\"T_6f448_row14_col0\" class=\"data row14 col0\" >ad_unit_id</td>\n",
       "      <td id=\"T_6f448_row14_col1\" class=\"data row14 col1\" >0.0000%</td>\n",
       "    </tr>\n",
       "    <tr>\n",
       "      <th id=\"T_6f448_level0_row15\" class=\"row_heading level0 row15\" >30</th>\n",
       "      <td id=\"T_6f448_row15_col0\" class=\"data row15 col0\" >ad_network_placement</td>\n",
       "      <td id=\"T_6f448_row15_col1\" class=\"data row15 col1\" >0.0000%</td>\n",
       "    </tr>\n",
       "    <tr>\n",
       "      <th id=\"T_6f448_level0_row16\" class=\"row_heading level0 row16\" >18</th>\n",
       "      <td id=\"T_6f448_row16_col0\" class=\"data row16 col0\" >session_view_index</td>\n",
       "      <td id=\"T_6f448_row16_col1\" class=\"data row16 col1\" >0.0000%</td>\n",
       "    </tr>\n",
       "    <tr>\n",
       "      <th id=\"T_6f448_level0_row17\" class=\"row_heading level0 row17\" >16</th>\n",
       "      <td id=\"T_6f448_row17_col0\" class=\"data row17 col0\" >placement</td>\n",
       "      <td id=\"T_6f448_row17_col1\" class=\"data row17 col1\" >0.0000%</td>\n",
       "    </tr>\n",
       "    <tr>\n",
       "      <th id=\"T_6f448_level0_row18\" class=\"row_heading level0 row18\" >1</th>\n",
       "      <td id=\"T_6f448_row18_col0\" class=\"data row18 col0\" >os_version</td>\n",
       "      <td id=\"T_6f448_row18_col1\" class=\"data row18 col1\" >0.0000%</td>\n",
       "    </tr>\n",
       "    <tr>\n",
       "      <th id=\"T_6f448_level0_row19\" class=\"row_heading level0 row19\" >15</th>\n",
       "      <td id=\"T_6f448_row19_col0\" class=\"data row19 col0\" >ad_type</td>\n",
       "      <td id=\"T_6f448_row19_col1\" class=\"data row19 col1\" >0.0000%</td>\n",
       "    </tr>\n",
       "    <tr>\n",
       "      <th id=\"T_6f448_level0_row20\" class=\"row_heading level0 row20\" >13</th>\n",
       "      <td id=\"T_6f448_row20_col0\" class=\"data row20 col0\" >country_iso_code</td>\n",
       "      <td id=\"T_6f448_row20_col1\" class=\"data row20 col1\" >0.0000%</td>\n",
       "    </tr>\n",
       "    <tr>\n",
       "      <th id=\"T_6f448_level0_row21\" class=\"row_heading level0 row21\" >11</th>\n",
       "      <td id=\"T_6f448_row21_col0\" class=\"data row21 col0\" >connection_type</td>\n",
       "      <td id=\"T_6f448_row21_col1\" class=\"data row21 col1\" >0.0000%</td>\n",
       "    </tr>\n",
       "    <tr>\n",
       "      <th id=\"T_6f448_level0_row22\" class=\"row_heading level0 row22\" >10</th>\n",
       "      <td id=\"T_6f448_row22_col0\" class=\"data row22 col0\" >event_receive_timestamp</td>\n",
       "      <td id=\"T_6f448_row22_col1\" class=\"data row22 col1\" >0.0000%</td>\n",
       "    </tr>\n",
       "    <tr>\n",
       "      <th id=\"T_6f448_level0_row23\" class=\"row_heading level0 row23\" >9</th>\n",
       "      <td id=\"T_6f448_row23_col0\" class=\"data row23 col0\" >event_receive_datetime</td>\n",
       "      <td id=\"T_6f448_row23_col1\" class=\"data row23 col1\" >0.0000%</td>\n",
       "    </tr>\n",
       "    <tr>\n",
       "      <th id=\"T_6f448_level0_row24\" class=\"row_heading level0 row24\" >8</th>\n",
       "      <td id=\"T_6f448_row24_col0\" class=\"data row24 col0\" >event_timestamp</td>\n",
       "      <td id=\"T_6f448_row24_col1\" class=\"data row24 col1\" >0.0000%</td>\n",
       "    </tr>\n",
       "    <tr>\n",
       "      <th id=\"T_6f448_level0_row25\" class=\"row_heading level0 row25\" >7</th>\n",
       "      <td id=\"T_6f448_row25_col0\" class=\"data row25 col0\" >event_datetime</td>\n",
       "      <td id=\"T_6f448_row25_col1\" class=\"data row25 col1\" >0.0000%</td>\n",
       "    </tr>\n",
       "    <tr>\n",
       "      <th id=\"T_6f448_level0_row26\" class=\"row_heading level0 row26\" >6</th>\n",
       "      <td id=\"T_6f448_row26_col0\" class=\"data row26 col0\" >event_name</td>\n",
       "      <td id=\"T_6f448_row26_col1\" class=\"data row26 col1\" >0.0000%</td>\n",
       "    </tr>\n",
       "    <tr>\n",
       "      <th id=\"T_6f448_level0_row27\" class=\"row_heading level0 row27\" >5</th>\n",
       "      <td id=\"T_6f448_row27_col0\" class=\"data row27 col0\" >device_locale</td>\n",
       "      <td id=\"T_6f448_row27_col1\" class=\"data row27 col1\" >0.0000%</td>\n",
       "    </tr>\n",
       "    <tr>\n",
       "      <th id=\"T_6f448_level0_row28\" class=\"row_heading level0 row28\" >4</th>\n",
       "      <td id=\"T_6f448_row28_col0\" class=\"data row28 col0\" >device_type</td>\n",
       "      <td id=\"T_6f448_row28_col1\" class=\"data row28 col1\" >0.0000%</td>\n",
       "    </tr>\n",
       "    <tr>\n",
       "      <th id=\"T_6f448_level0_row29\" class=\"row_heading level0 row29\" >3</th>\n",
       "      <td id=\"T_6f448_row29_col0\" class=\"data row29 col0\" >device_model</td>\n",
       "      <td id=\"T_6f448_row29_col1\" class=\"data row29 col1\" >0.0000%</td>\n",
       "    </tr>\n",
       "    <tr>\n",
       "      <th id=\"T_6f448_level0_row30\" class=\"row_heading level0 row30\" >2</th>\n",
       "      <td id=\"T_6f448_row30_col0\" class=\"data row30 col0\" >device_manufacturer</td>\n",
       "      <td id=\"T_6f448_row30_col1\" class=\"data row30 col1\" >0.0000%</td>\n",
       "    </tr>\n",
       "    <tr>\n",
       "      <th id=\"T_6f448_level0_row31\" class=\"row_heading level0 row31\" >31</th>\n",
       "      <td id=\"T_6f448_row31_col0\" class=\"data row31 col0\" >creativeId</td>\n",
       "      <td id=\"T_6f448_row31_col1\" class=\"data row31 col1\" >0.0000%</td>\n",
       "    </tr>\n",
       "  </tbody>\n",
       "</table>\n"
      ],
      "text/plain": [
       "<pandas.io.formats.style.Styler at 0x13f318d0a60>"
      ]
     },
     "execution_count": 18,
     "metadata": {},
     "output_type": "execute_result"
    }
   ],
   "source": [
    "miss_value=pd.DataFrame(combined.isna().mean()).reset_index()\n",
    "miss_value.set_axis(['column_name', 'missing_value'], axis = 'columns', inplace = True)\n",
    "miss_value.sort_values(by='missing_value', ascending=False).style.format({'missing_value': '{:,.4%}'.format})\n",
    "#проценты пропусков"
   ]
  },
  {
   "cell_type": "markdown",
   "id": "9ae23695",
   "metadata": {},
   "source": [
    "В объединенном датафрейме 32 колонки, 860079 строк. Проведена проверка на явные и неявные дубликаты, в том числе с учетом регистра. Обнаружено 3 дубликата в event_json, при присоединии основной таблицы, отличающиеся временными меткамами, наличием/отстутствием города юзера, обнаружены 117 пользователей с ad_country_code не US, оставлены как не влиящие на общую картину. Обнаружено 14 пропусков в столбце profile_id, 18879 в operator_name, 323708 в city. 62.4% дохода содержат информацию о городе пользователя."
   ]
  },
  {
   "cell_type": "markdown",
   "id": "ae530f27",
   "metadata": {},
   "source": [
    "## Исследовательский анализ данных"
   ]
  },
  {
   "cell_type": "markdown",
   "id": "29ded74c",
   "metadata": {},
   "source": [
    "###  Общая выручка по типу рекламы"
   ]
  },
  {
   "cell_type": "code",
   "execution_count": 19,
   "id": "b8d88cca",
   "metadata": {},
   "outputs": [
    {
     "data": {
      "text/html": [
       "<div>\n",
       "<style scoped>\n",
       "    .dataframe tbody tr th:only-of-type {\n",
       "        vertical-align: middle;\n",
       "    }\n",
       "\n",
       "    .dataframe tbody tr th {\n",
       "        vertical-align: top;\n",
       "    }\n",
       "\n",
       "    .dataframe thead th {\n",
       "        text-align: right;\n",
       "    }\n",
       "</style>\n",
       "<table border=\"1\" class=\"dataframe\">\n",
       "  <thead>\n",
       "    <tr style=\"text-align: right;\">\n",
       "      <th></th>\n",
       "      <th>ad_type</th>\n",
       "      <th>revenue</th>\n",
       "    </tr>\n",
       "  </thead>\n",
       "  <tbody>\n",
       "    <tr>\n",
       "      <th>1</th>\n",
       "      <td>int</td>\n",
       "      <td>1361.952967</td>\n",
       "    </tr>\n",
       "    <tr>\n",
       "      <th>0</th>\n",
       "      <td>banner</td>\n",
       "      <td>607.184041</td>\n",
       "    </tr>\n",
       "    <tr>\n",
       "      <th>2</th>\n",
       "      <td>rv</td>\n",
       "      <td>421.661652</td>\n",
       "    </tr>\n",
       "  </tbody>\n",
       "</table>\n",
       "</div>"
      ],
      "text/plain": [
       "  ad_type      revenue\n",
       "1     int  1361.952967\n",
       "0  banner   607.184041\n",
       "2      rv   421.661652"
      ]
     },
     "execution_count": 19,
     "metadata": {},
     "output_type": "execute_result"
    },
    {
     "data": {
      "image/png": "[encoded data removed]",
      "text/plain": [
       "<Figure size 864x432 with 1 Axes>"
      ]
     },
     "metadata": {
      "needs_background": "light"
     },
     "output_type": "display_data"
    }
   ],
   "source": [
    "fig = plt.subplots(figsize=[12,6])\n",
    "sns.barplot(x='ad_type', y='revenue', data=combined.groupby('ad_type').agg({'revenue': 'sum'})\n",
    "            .reset_index().sort_values(by='revenue', ascending=False))\n",
    "plt.xlabel('Формат',fontsize=12)\n",
    "plt.ylabel('Выручка (у.е.)',fontsize=12)\n",
    "plt.title('Общая выручка по типу рекламы');\n",
    "combined.groupby('ad_type').agg({'revenue': 'sum'}).reset_index().sort_values(by='revenue', ascending=False)\n",
    "# общая сумма выручки по формату рекламы "
   ]
  },
  {
   "cell_type": "markdown",
   "id": "9759d035",
   "metadata": {},
   "source": [
    "### Распределение средних eCPM пользователей, в зависимости от форматов рекламы"
   ]
  },
  {
   "cell_type": "code",
   "execution_count": 20,
   "id": "64446f66",
   "metadata": {},
   "outputs": [
    {
     "data": {
      "text/html": [
       "<div>\n",
       "<style scoped>\n",
       "    .dataframe tbody tr th:only-of-type {\n",
       "        vertical-align: middle;\n",
       "    }\n",
       "\n",
       "    .dataframe tbody tr th {\n",
       "        vertical-align: top;\n",
       "    }\n",
       "\n",
       "    .dataframe thead th {\n",
       "        text-align: right;\n",
       "    }\n",
       "</style>\n",
       "<table border=\"1\" class=\"dataframe\">\n",
       "  <thead>\n",
       "    <tr style=\"text-align: right;\">\n",
       "      <th></th>\n",
       "      <th>ad_type</th>\n",
       "      <th>profile_id</th>\n",
       "      <th>eCPM</th>\n",
       "    </tr>\n",
       "  </thead>\n",
       "  <tbody>\n",
       "    <tr>\n",
       "      <th>1931</th>\n",
       "      <td>banner</td>\n",
       "      <td>JLtNhjZ8KOt</td>\n",
       "      <td>0.339138</td>\n",
       "    </tr>\n",
       "    <tr>\n",
       "      <th>5242</th>\n",
       "      <td>int</td>\n",
       "      <td>JLrYQ29SVmh</td>\n",
       "      <td>15.186312</td>\n",
       "    </tr>\n",
       "    <tr>\n",
       "      <th>641</th>\n",
       "      <td>banner</td>\n",
       "      <td>JLhKxWJdRHV</td>\n",
       "      <td>0.659490</td>\n",
       "    </tr>\n",
       "  </tbody>\n",
       "</table>\n",
       "</div>"
      ],
      "text/plain": [
       "     ad_type   profile_id       eCPM\n",
       "1931  banner  JLtNhjZ8KOt   0.339138\n",
       "5242     int  JLrYQ29SVmh  15.186312\n",
       "641   banner  JLhKxWJdRHV   0.659490"
      ]
     },
     "execution_count": 20,
     "metadata": {},
     "output_type": "execute_result"
    }
   ],
   "source": [
    "users = (combined.groupby(['ad_type', 'profile_id'])\n",
    "         .agg({'revenue': 'mean'})*1000).reset_index().rename(columns={'revenue': 'eCPM'})\n",
    "users.sample(3)#сгруппируем по формату рекламы и пользователям"
   ]
  },
  {
   "cell_type": "markdown",
   "id": "f6d37ac3",
   "metadata": {},
   "source": [
    "Посморим на графики распределения eCPM пользователей по формату рекламы"
   ]
  },
  {
   "cell_type": "code",
   "execution_count": 21,
   "id": "1b704954",
   "metadata": {},
   "outputs": [],
   "source": [
    "users_int = users.query('ad_type == \"int\"')\n",
    "users_rv = users.query('ad_type == \"rv\"')\n",
    "users_banner = users.query('ad_type == \"banner\"')"
   ]
  },
  {
   "cell_type": "code",
   "execution_count": 22,
   "id": "26c85a1d",
   "metadata": {
    "scrolled": false
   },
   "outputs": [
    {
     "data": {
      "image/png": "[encoded data removed]",
      "text/plain": [
       "<Figure size 864x432 with 1 Axes>"
      ]
     },
     "metadata": {
      "needs_background": "light"
     },
     "output_type": "display_data"
    },
    {
     "data": {
      "image/png": "[encoded data removed]",
      "text/plain": [
       "<Figure size 864x432 with 1 Axes>"
      ]
     },
     "metadata": {},
     "output_type": "display_data"
    },
    {
     "data": {
      "image/png": "[encoded data removed]",
      "text/plain": [
       "<Figure size 864x432 with 1 Axes>"
      ]
     },
     "metadata": {},
     "output_type": "display_data"
    }
   ],
   "source": [
    "plt.figure(figsize = (12,6))\n",
    "sns.set_style(\"whitegrid\") \n",
    "sns.distplot(users_int['eCPM'], color='red')\n",
    "plt.title('Полноэкранная реклама')\n",
    "plt.legend(['int'])\n",
    "plt.show()\n",
    "plt.figure(figsize = (12,6))\n",
    "sns.set_style(\"whitegrid\") \n",
    "sns.distplot(users_rv['eCPM'], color='blue')\n",
    "plt.title('Видео')\n",
    "plt.legend(['rv'])\n",
    "plt.show()\n",
    "plt.figure(figsize = (12,6))\n",
    "sns.set_style(\"whitegrid\") \n",
    "sns.distplot(users_banner['eCPM'], color='green')\n",
    "plt.title('Горизонтальный баннер')\n",
    "plt.legend(['banner'])\n",
    "plt.show()"
   ]
  },
  {
   "cell_type": "markdown",
   "id": "90c511c2",
   "metadata": {},
   "source": [
    "На графиках видны аномальные пики, выбросы, графики скошены вправо. Посмотрим на редкие, выбивающихся значения, определим границы для аномалий и удалим их."
   ]
  },
  {
   "cell_type": "markdown",
   "id": "c98663a2",
   "metadata": {},
   "source": [
    "Баннеры"
   ]
  },
  {
   "cell_type": "code",
   "execution_count": 23,
   "id": "a39b385f",
   "metadata": {},
   "outputs": [
    {
     "data": {
      "text/html": [
       "<div>\n",
       "<style scoped>\n",
       "    .dataframe tbody tr th:only-of-type {\n",
       "        vertical-align: middle;\n",
       "    }\n",
       "\n",
       "    .dataframe tbody tr th {\n",
       "        vertical-align: top;\n",
       "    }\n",
       "\n",
       "    .dataframe thead th {\n",
       "        text-align: right;\n",
       "    }\n",
       "</style>\n",
       "<table border=\"1\" class=\"dataframe\">\n",
       "  <thead>\n",
       "    <tr style=\"text-align: right;\">\n",
       "      <th></th>\n",
       "      <th>eCPM</th>\n",
       "    </tr>\n",
       "  </thead>\n",
       "  <tbody>\n",
       "    <tr>\n",
       "      <th>count</th>\n",
       "      <td>3508.000000</td>\n",
       "    </tr>\n",
       "    <tr>\n",
       "      <th>mean</th>\n",
       "      <td>1.157111</td>\n",
       "    </tr>\n",
       "    <tr>\n",
       "      <th>std</th>\n",
       "      <td>1.867792</td>\n",
       "    </tr>\n",
       "    <tr>\n",
       "      <th>min</th>\n",
       "      <td>0.013930</td>\n",
       "    </tr>\n",
       "    <tr>\n",
       "      <th>25%</th>\n",
       "      <td>0.322804</td>\n",
       "    </tr>\n",
       "    <tr>\n",
       "      <th>50%</th>\n",
       "      <td>0.583002</td>\n",
       "    </tr>\n",
       "    <tr>\n",
       "      <th>75%</th>\n",
       "      <td>1.297329</td>\n",
       "    </tr>\n",
       "    <tr>\n",
       "      <th>max</th>\n",
       "      <td>43.021387</td>\n",
       "    </tr>\n",
       "  </tbody>\n",
       "</table>\n",
       "</div>"
      ],
      "text/plain": [
       "              eCPM\n",
       "count  3508.000000\n",
       "mean      1.157111\n",
       "std       1.867792\n",
       "min       0.013930\n",
       "25%       0.322804\n",
       "50%       0.583002\n",
       "75%       1.297329\n",
       "max      43.021387"
      ]
     },
     "execution_count": 23,
     "metadata": {},
     "output_type": "execute_result"
    },
    {
     "data": {
      "image/png": "[encoded data removed]",
      "text/plain": [
       "<Figure size 1080x144 with 1 Axes>"
      ]
     },
     "metadata": {},
     "output_type": "display_data"
    }
   ],
   "source": [
    "users_banner.boxplot(figsize=(15,2), vert=False,)\n",
    "plt.title('Баннеры');\n",
    "users_banner.describe()"
   ]
  },
  {
   "cell_type": "code",
   "execution_count": 24,
   "id": "37bcfdbe",
   "metadata": {},
   "outputs": [
    {
     "data": {
      "text/plain": [
       "array([4.0611655 , 7.35754893])"
      ]
     },
     "execution_count": 24,
     "metadata": {},
     "output_type": "execute_result"
    }
   ],
   "source": [
    "np.percentile(users_banner['eCPM'],  [95, 99])#Посчитаем 95-й и 99-й перцентили"
   ]
  },
  {
   "cell_type": "code",
   "execution_count": 25,
   "id": "68a6335e",
   "metadata": {},
   "outputs": [],
   "source": [
    "users_banner = users_banner.query('eCPM < 4.0611655') \n",
    "# У 5 % пользователей eCPM более 4.06. Выберем границу в 95%, не более 4.06 отфильтруем выбивающиеся значения"
   ]
  },
  {
   "cell_type": "markdown",
   "id": "29d54d2a",
   "metadata": {},
   "source": [
    "Полноэкранная реклама"
   ]
  },
  {
   "cell_type": "code",
   "execution_count": 26,
   "id": "1586ac76",
   "metadata": {},
   "outputs": [
    {
     "data": {
      "text/html": [
       "<div>\n",
       "<style scoped>\n",
       "    .dataframe tbody tr th:only-of-type {\n",
       "        vertical-align: middle;\n",
       "    }\n",
       "\n",
       "    .dataframe tbody tr th {\n",
       "        vertical-align: top;\n",
       "    }\n",
       "\n",
       "    .dataframe thead th {\n",
       "        text-align: right;\n",
       "    }\n",
       "</style>\n",
       "<table border=\"1\" class=\"dataframe\">\n",
       "  <thead>\n",
       "    <tr style=\"text-align: right;\">\n",
       "      <th></th>\n",
       "      <th>eCPM</th>\n",
       "    </tr>\n",
       "  </thead>\n",
       "  <tbody>\n",
       "    <tr>\n",
       "      <th>count</th>\n",
       "      <td>3962.000000</td>\n",
       "    </tr>\n",
       "    <tr>\n",
       "      <th>mean</th>\n",
       "      <td>45.557457</td>\n",
       "    </tr>\n",
       "    <tr>\n",
       "      <th>std</th>\n",
       "      <td>46.877344</td>\n",
       "    </tr>\n",
       "    <tr>\n",
       "      <th>min</th>\n",
       "      <td>0.000000</td>\n",
       "    </tr>\n",
       "    <tr>\n",
       "      <th>25%</th>\n",
       "      <td>17.620615</td>\n",
       "    </tr>\n",
       "    <tr>\n",
       "      <th>50%</th>\n",
       "      <td>27.623670</td>\n",
       "    </tr>\n",
       "    <tr>\n",
       "      <th>75%</th>\n",
       "      <td>56.397665</td>\n",
       "    </tr>\n",
       "    <tr>\n",
       "      <th>max</th>\n",
       "      <td>568.678270</td>\n",
       "    </tr>\n",
       "  </tbody>\n",
       "</table>\n",
       "</div>"
      ],
      "text/plain": [
       "              eCPM\n",
       "count  3962.000000\n",
       "mean     45.557457\n",
       "std      46.877344\n",
       "min       0.000000\n",
       "25%      17.620615\n",
       "50%      27.623670\n",
       "75%      56.397665\n",
       "max     568.678270"
      ]
     },
     "execution_count": 26,
     "metadata": {},
     "output_type": "execute_result"
    },
    {
     "data": {
      "image/png": "[encoded data removed]",
      "text/plain": [
       "<Figure size 1080x144 with 1 Axes>"
      ]
     },
     "metadata": {},
     "output_type": "display_data"
    }
   ],
   "source": [
    "users_int.boxplot(figsize=(15,2), vert=False,)\n",
    "plt.title('Полноэкранная реклама');\n",
    "users_int.describe()"
   ]
  },
  {
   "cell_type": "code",
   "execution_count": 27,
   "id": "cedf169b",
   "metadata": {},
   "outputs": [
    {
     "data": {
      "text/plain": [
       "array([151.45065643, 198.14260063])"
      ]
     },
     "execution_count": 27,
     "metadata": {},
     "output_type": "execute_result"
    }
   ],
   "source": [
    "np.percentile(users_int['eCPM'],  [95, 99])"
   ]
  },
  {
   "cell_type": "code",
   "execution_count": 28,
   "id": "cefe0374",
   "metadata": {},
   "outputs": [],
   "source": [
    "users_int = users_int.query('eCPM < 151.45065643')"
   ]
  },
  {
   "cell_type": "markdown",
   "id": "141562d9",
   "metadata": {},
   "source": [
    "Видео"
   ]
  },
  {
   "cell_type": "code",
   "execution_count": 29,
   "id": "b604cf98",
   "metadata": {},
   "outputs": [
    {
     "data": {
      "text/html": [
       "<div>\n",
       "<style scoped>\n",
       "    .dataframe tbody tr th:only-of-type {\n",
       "        vertical-align: middle;\n",
       "    }\n",
       "\n",
       "    .dataframe tbody tr th {\n",
       "        vertical-align: top;\n",
       "    }\n",
       "\n",
       "    .dataframe thead th {\n",
       "        text-align: right;\n",
       "    }\n",
       "</style>\n",
       "<table border=\"1\" class=\"dataframe\">\n",
       "  <thead>\n",
       "    <tr style=\"text-align: right;\">\n",
       "      <th></th>\n",
       "      <th>eCPM</th>\n",
       "    </tr>\n",
       "  </thead>\n",
       "  <tbody>\n",
       "    <tr>\n",
       "      <th>count</th>\n",
       "      <td>1324.000000</td>\n",
       "    </tr>\n",
       "    <tr>\n",
       "      <th>mean</th>\n",
       "      <td>80.502004</td>\n",
       "    </tr>\n",
       "    <tr>\n",
       "      <th>std</th>\n",
       "      <td>79.154906</td>\n",
       "    </tr>\n",
       "    <tr>\n",
       "      <th>min</th>\n",
       "      <td>0.223222</td>\n",
       "    </tr>\n",
       "    <tr>\n",
       "      <th>25%</th>\n",
       "      <td>28.240000</td>\n",
       "    </tr>\n",
       "    <tr>\n",
       "      <th>50%</th>\n",
       "      <td>46.019935</td>\n",
       "    </tr>\n",
       "    <tr>\n",
       "      <th>75%</th>\n",
       "      <td>98.067206</td>\n",
       "    </tr>\n",
       "    <tr>\n",
       "      <th>max</th>\n",
       "      <td>808.294820</td>\n",
       "    </tr>\n",
       "  </tbody>\n",
       "</table>\n",
       "</div>"
      ],
      "text/plain": [
       "              eCPM\n",
       "count  1324.000000\n",
       "mean     80.502004\n",
       "std      79.154906\n",
       "min       0.223222\n",
       "25%      28.240000\n",
       "50%      46.019935\n",
       "75%      98.067206\n",
       "max     808.294820"
      ]
     },
     "execution_count": 29,
     "metadata": {},
     "output_type": "execute_result"
    },
    {
     "data": {
      "image/png": "[encoded data removed]",
      "text/plain": [
       "<Figure size 1080x144 with 1 Axes>"
      ]
     },
     "metadata": {},
     "output_type": "display_data"
    }
   ],
   "source": [
    "users_rv.boxplot(figsize=(15,2), vert=False,)\n",
    "plt.title('Видео');\n",
    "users_rv.describe()"
   ]
  },
  {
   "cell_type": "code",
   "execution_count": 30,
   "id": "d06dc22c",
   "metadata": {},
   "outputs": [
    {
     "data": {
      "text/plain": [
       "array([211.7       , 313.34138612])"
      ]
     },
     "execution_count": 30,
     "metadata": {},
     "output_type": "execute_result"
    }
   ],
   "source": [
    "np.percentile(users_rv['eCPM'],  [95, 99])"
   ]
  },
  {
   "cell_type": "code",
   "execution_count": 31,
   "id": "376ab274",
   "metadata": {},
   "outputs": [],
   "source": [
    "users_rv = users_rv.query('eCPM < 211.7')"
   ]
  },
  {
   "cell_type": "markdown",
   "id": "a25347a3",
   "metadata": {},
   "source": [
    "Построим распределение  средних eCPM пользователей по типу рекламы "
   ]
  },
  {
   "cell_type": "code",
   "execution_count": 32,
   "id": "ca921824",
   "metadata": {},
   "outputs": [],
   "source": [
    "users_filtered = pd.concat([users_int, users_banner, users_rv])"
   ]
  },
  {
   "cell_type": "code",
   "execution_count": 33,
   "id": "2c81a465",
   "metadata": {},
   "outputs": [
    {
     "data": {
      "text/html": [
       "<div>\n",
       "<style scoped>\n",
       "    .dataframe tbody tr th:only-of-type {\n",
       "        vertical-align: middle;\n",
       "    }\n",
       "\n",
       "    .dataframe tbody tr th {\n",
       "        vertical-align: top;\n",
       "    }\n",
       "\n",
       "    .dataframe thead th {\n",
       "        text-align: right;\n",
       "    }\n",
       "</style>\n",
       "<table border=\"1\" class=\"dataframe\">\n",
       "  <thead>\n",
       "    <tr style=\"text-align: right;\">\n",
       "      <th></th>\n",
       "      <th>ad_type</th>\n",
       "      <th>profile_id</th>\n",
       "      <th>eCPM</th>\n",
       "    </tr>\n",
       "  </thead>\n",
       "  <tbody>\n",
       "    <tr>\n",
       "      <th>3508</th>\n",
       "      <td>int</td>\n",
       "      <td>JL015rw9vmN</td>\n",
       "      <td>21.983199</td>\n",
       "    </tr>\n",
       "    <tr>\n",
       "      <th>3509</th>\n",
       "      <td>int</td>\n",
       "      <td>JL01aCdFTJy</td>\n",
       "      <td>11.965651</td>\n",
       "    </tr>\n",
       "    <tr>\n",
       "      <th>3510</th>\n",
       "      <td>int</td>\n",
       "      <td>JL04ODuw9UP</td>\n",
       "      <td>23.160000</td>\n",
       "    </tr>\n",
       "    <tr>\n",
       "      <th>3511</th>\n",
       "      <td>int</td>\n",
       "      <td>JL06b4k4ygp</td>\n",
       "      <td>7.327454</td>\n",
       "    </tr>\n",
       "    <tr>\n",
       "      <th>3512</th>\n",
       "      <td>int</td>\n",
       "      <td>JL06eD8uPpv</td>\n",
       "      <td>44.820000</td>\n",
       "    </tr>\n",
       "    <tr>\n",
       "      <th>...</th>\n",
       "      <td>...</td>\n",
       "      <td>...</td>\n",
       "      <td>...</td>\n",
       "    </tr>\n",
       "    <tr>\n",
       "      <th>8788</th>\n",
       "      <td>rv</td>\n",
       "      <td>JMJ94FXDegp</td>\n",
       "      <td>25.164375</td>\n",
       "    </tr>\n",
       "    <tr>\n",
       "      <th>8789</th>\n",
       "      <td>rv</td>\n",
       "      <td>JMJNoJcoBUf</td>\n",
       "      <td>103.769158</td>\n",
       "    </tr>\n",
       "    <tr>\n",
       "      <th>8791</th>\n",
       "      <td>rv</td>\n",
       "      <td>JMKCFREXspE</td>\n",
       "      <td>7.178189</td>\n",
       "    </tr>\n",
       "    <tr>\n",
       "      <th>8792</th>\n",
       "      <td>rv</td>\n",
       "      <td>JMKEonE8xpy</td>\n",
       "      <td>28.240000</td>\n",
       "    </tr>\n",
       "    <tr>\n",
       "      <th>8793</th>\n",
       "      <td>rv</td>\n",
       "      <td>JMKMw5oZ9T4</td>\n",
       "      <td>28.942492</td>\n",
       "    </tr>\n",
       "  </tbody>\n",
       "</table>\n",
       "<p>8240 rows × 3 columns</p>\n",
       "</div>"
      ],
      "text/plain": [
       "     ad_type   profile_id        eCPM\n",
       "3508     int  JL015rw9vmN   21.983199\n",
       "3509     int  JL01aCdFTJy   11.965651\n",
       "3510     int  JL04ODuw9UP   23.160000\n",
       "3511     int  JL06b4k4ygp    7.327454\n",
       "3512     int  JL06eD8uPpv   44.820000\n",
       "...      ...          ...         ...\n",
       "8788      rv  JMJ94FXDegp   25.164375\n",
       "8789      rv  JMJNoJcoBUf  103.769158\n",
       "8791      rv  JMKCFREXspE    7.178189\n",
       "8792      rv  JMKEonE8xpy   28.240000\n",
       "8793      rv  JMKMw5oZ9T4   28.942492\n",
       "\n",
       "[8240 rows x 3 columns]"
      ]
     },
     "execution_count": 33,
     "metadata": {},
     "output_type": "execute_result"
    }
   ],
   "source": [
    "users_filtered"
   ]
  },
  {
   "cell_type": "code",
   "execution_count": 34,
   "id": "6594d657",
   "metadata": {},
   "outputs": [
    {
     "data": {
      "text/html": [
       "<div>\n",
       "<style scoped>\n",
       "    .dataframe tbody tr th:only-of-type {\n",
       "        vertical-align: middle;\n",
       "    }\n",
       "\n",
       "    .dataframe tbody tr th {\n",
       "        vertical-align: top;\n",
       "    }\n",
       "\n",
       "    .dataframe thead th {\n",
       "        text-align: right;\n",
       "    }\n",
       "</style>\n",
       "<table border=\"1\" class=\"dataframe\">\n",
       "  <thead>\n",
       "    <tr style=\"text-align: right;\">\n",
       "      <th></th>\n",
       "      <th>eCPM</th>\n",
       "    </tr>\n",
       "    <tr>\n",
       "      <th>ad_type</th>\n",
       "      <th></th>\n",
       "    </tr>\n",
       "  </thead>\n",
       "  <tbody>\n",
       "    <tr>\n",
       "      <th>rv</th>\n",
       "      <td>55.917103</td>\n",
       "    </tr>\n",
       "    <tr>\n",
       "      <th>int</th>\n",
       "      <td>37.571185</td>\n",
       "    </tr>\n",
       "    <tr>\n",
       "      <th>banner</th>\n",
       "      <td>0.848512</td>\n",
       "    </tr>\n",
       "  </tbody>\n",
       "</table>\n",
       "</div>"
      ],
      "text/plain": [
       "              eCPM\n",
       "ad_type           \n",
       "rv       55.917103\n",
       "int      37.571185\n",
       "banner    0.848512"
      ]
     },
     "execution_count": 34,
     "metadata": {},
     "output_type": "execute_result"
    },
    {
     "data": {
      "image/png": "[encoded data removed]",
      "text/plain": [
       "<Figure size 864x432 with 1 Axes>"
      ]
     },
     "metadata": {},
     "output_type": "display_data"
    }
   ],
   "source": [
    "fig = plt.subplots(figsize=[12,6])\n",
    "sns.barplot(x='ad_type', y='eCPM', data=users_filtered.groupby('ad_type').agg({'eCPM': 'mean'})\n",
    "            .reset_index().sort_values(by='eCPM', ascending=False))\n",
    "plt.xlabel('Формат',fontsize=12)\n",
    "plt.ylabel('eCPM',fontsize=12)\n",
    "plt.title('Средний eCPM пользователей по типу рекламы');\n",
    "users_filtered.groupby('ad_type').agg({'eCPM': 'mean'}).sort_values(by='eCPM', ascending=False)"
   ]
  },
  {
   "cell_type": "markdown",
   "id": "b56c8bd9",
   "metadata": {},
   "source": [
    "Низкий eCPM баннеров, связан с большим количеством его показов. Высокие показатели по видео и полноэкранной рекламе, связаны с их высокой стоимостью их показа. Об эффективности того или иного вида рекламы сказать ничего нельзя.  "
   ]
  },
  {
   "cell_type": "markdown",
   "id": "9f0f118c",
   "metadata": {},
   "source": [
    "### Распределение eCPM по городам, версиям ОС"
   ]
  },
  {
   "cell_type": "markdown",
   "id": "522d8e39",
   "metadata": {},
   "source": [
    "Обернем все в функции"
   ]
  },
  {
   "cell_type": "code",
   "execution_count": 35,
   "id": "a8809b85",
   "metadata": {},
   "outputs": [],
   "source": [
    "def dist(df):\n",
    "    plt.figure(figsize = (12,6))\n",
    "    sns.set_style(\"whitegrid\") \n",
    "    sns.distplot(df.query('ad_type == \"int\"')['eCPM'], color='red')\n",
    "    plt.title('Полноэкранная реклама')\n",
    "    plt.legend(['int'])\n",
    "    plt.show()\n",
    "    plt.figure(figsize = (12,6))\n",
    "    sns.set_style(\"whitegrid\") \n",
    "    sns.distplot(df.query('ad_type == \"rv\"')['eCPM'], color='blue')\n",
    "    plt.title('Видео')\n",
    "    plt.legend(['rv'])\n",
    "    plt.show()\n",
    "    plt.figure(figsize = (12,6))\n",
    "    sns.set_style(\"whitegrid\") \n",
    "    sns.distplot(df.query('ad_type == \"banner\"')['eCPM'], color='green')\n",
    "    plt.title('Горизонтальный баннер')\n",
    "    plt.legend(['banner'])\n",
    "    plt.show()  #функция для отображения distplot по форматам рекламы"
   ]
  },
  {
   "cell_type": "code",
   "execution_count": 36,
   "id": "81b39c61",
   "metadata": {},
   "outputs": [],
   "source": [
    "def filtered(df):\n",
    "    perc_int = np.percentile(df.query('ad_type == \"int\"')['eCPM'],  [95, 99])[0]\n",
    "    int_ = df.query('ad_type == \"int\" and eCPM < @perc_int')\n",
    "    perc_ban = np.percentile(df.query('ad_type == \"banner\"')['eCPM'],  [95, 99])[0]\n",
    "    ban = df.query('ad_type == \"banner\" and eCPM < @perc_ban')\n",
    "    perc_rv = np.percentile(df.query('ad_type == \"rv\"')['eCPM'],  [95, 99])[0]\n",
    "    rv = df.query('ad_type == \"rv\" and eCPM < @perc_rv')\n",
    "    filtered = pd.concat([int_, ban, rv])\n",
    "    return filtered #функция для фильтрации по 95-у перцентилю по форматам рекламы"
   ]
  },
  {
   "cell_type": "code",
   "execution_count": 37,
   "id": "bc810ca9",
   "metadata": {},
   "outputs": [],
   "source": [
    "def mean_eCPM(df):\n",
    "    fig = plt.subplots(figsize=[12,6])\n",
    "    sns.barplot(x='ad_type', y='eCPM', data=df.groupby('ad_type').agg({'eCPM': 'mean'})\n",
    "            .reset_index().sort_values(by='eCPM', ascending=False))\n",
    "    plt.xlabel('Формат',fontsize=12)\n",
    "    plt.ylabel('eCPM',fontsize=12)\n",
    "    plt.title('Средний eCPM');\n",
    "    display(df.groupby('ad_type').agg({'eCPM': 'mean'}).reset_index().sort_values(by='eCPM', ascending=False))\n",
    "#функция для отображения среднего eCPM по форматам рекламы"
   ]
  },
  {
   "cell_type": "markdown",
   "id": "3142c268",
   "metadata": {},
   "source": [
    "#### Распределение eCPM по городам"
   ]
  },
  {
   "cell_type": "code",
   "execution_count": 38,
   "id": "92f5dfc8",
   "metadata": {},
   "outputs": [
    {
     "data": {
      "text/html": [
       "<div>\n",
       "<style scoped>\n",
       "    .dataframe tbody tr th:only-of-type {\n",
       "        vertical-align: middle;\n",
       "    }\n",
       "\n",
       "    .dataframe tbody tr th {\n",
       "        vertical-align: top;\n",
       "    }\n",
       "\n",
       "    .dataframe thead th {\n",
       "        text-align: right;\n",
       "    }\n",
       "</style>\n",
       "<table border=\"1\" class=\"dataframe\">\n",
       "  <thead>\n",
       "    <tr style=\"text-align: right;\">\n",
       "      <th></th>\n",
       "      <th>ad_type</th>\n",
       "      <th>city</th>\n",
       "      <th>eCPM</th>\n",
       "    </tr>\n",
       "  </thead>\n",
       "  <tbody>\n",
       "    <tr>\n",
       "      <th>2161</th>\n",
       "      <td>rv</td>\n",
       "      <td>Wesley Chapel</td>\n",
       "      <td>149.754339</td>\n",
       "    </tr>\n",
       "    <tr>\n",
       "      <th>1163</th>\n",
       "      <td>int</td>\n",
       "      <td>Greenfield</td>\n",
       "      <td>16.048127</td>\n",
       "    </tr>\n",
       "    <tr>\n",
       "      <th>63</th>\n",
       "      <td>banner</td>\n",
       "      <td>Bethel Park</td>\n",
       "      <td>1.082849</td>\n",
       "    </tr>\n",
       "  </tbody>\n",
       "</table>\n",
       "</div>"
      ],
      "text/plain": [
       "     ad_type           city        eCPM\n",
       "2161      rv  Wesley Chapel  149.754339\n",
       "1163     int     Greenfield   16.048127\n",
       "63    banner    Bethel Park    1.082849"
      ]
     },
     "execution_count": 38,
     "metadata": {},
     "output_type": "execute_result"
    }
   ],
   "source": [
    "cities = (combined.groupby(['ad_type', 'city'])\n",
    "         .agg({'revenue': 'mean'})*1000).reset_index().rename(columns={'revenue': 'eCPM'})\n",
    "cities.sample(3)#сгруппируем по формату и городам"
   ]
  },
  {
   "cell_type": "code",
   "execution_count": 39,
   "id": "c511a919",
   "metadata": {
    "scrolled": false
   },
   "outputs": [
    {
     "data": {
      "image/png": "[encoded data removed]",
      "text/plain": [
       "<Figure size 864x432 with 1 Axes>"
      ]
     },
     "metadata": {},
     "output_type": "display_data"
    },
    {
     "data": {
      "image/png": "[encoded data removed]",
      "text/plain": [
       "<Figure size 864x432 with 1 Axes>"
      ]
     },
     "metadata": {},
     "output_type": "display_data"
    },
    {
     "data": {
      "image/png": "[encoded data removed]",
      "text/plain": [
       "<Figure size 864x432 with 1 Axes>"
      ]
     },
     "metadata": {},
     "output_type": "display_data"
    }
   ],
   "source": [
    "dist(cities)"
   ]
  },
  {
   "cell_type": "code",
   "execution_count": 40,
   "id": "8eee06f1",
   "metadata": {},
   "outputs": [
    {
     "data": {
      "text/html": [
       "<div>\n",
       "<style scoped>\n",
       "    .dataframe tbody tr th:only-of-type {\n",
       "        vertical-align: middle;\n",
       "    }\n",
       "\n",
       "    .dataframe tbody tr th {\n",
       "        vertical-align: top;\n",
       "    }\n",
       "\n",
       "    .dataframe thead th {\n",
       "        text-align: right;\n",
       "    }\n",
       "</style>\n",
       "<table border=\"1\" class=\"dataframe\">\n",
       "  <thead>\n",
       "    <tr style=\"text-align: right;\">\n",
       "      <th></th>\n",
       "      <th>eCPM</th>\n",
       "    </tr>\n",
       "  </thead>\n",
       "  <tbody>\n",
       "    <tr>\n",
       "      <th>count</th>\n",
       "      <td>856.000000</td>\n",
       "    </tr>\n",
       "    <tr>\n",
       "      <th>mean</th>\n",
       "      <td>1.026122</td>\n",
       "    </tr>\n",
       "    <tr>\n",
       "      <th>std</th>\n",
       "      <td>1.439121</td>\n",
       "    </tr>\n",
       "    <tr>\n",
       "      <th>min</th>\n",
       "      <td>0.029317</td>\n",
       "    </tr>\n",
       "    <tr>\n",
       "      <th>25%</th>\n",
       "      <td>0.342273</td>\n",
       "    </tr>\n",
       "    <tr>\n",
       "      <th>50%</th>\n",
       "      <td>0.568364</td>\n",
       "    </tr>\n",
       "    <tr>\n",
       "      <th>75%</th>\n",
       "      <td>1.088064</td>\n",
       "    </tr>\n",
       "    <tr>\n",
       "      <th>max</th>\n",
       "      <td>19.326435</td>\n",
       "    </tr>\n",
       "  </tbody>\n",
       "</table>\n",
       "</div>"
      ],
      "text/plain": [
       "             eCPM\n",
       "count  856.000000\n",
       "mean     1.026122\n",
       "std      1.439121\n",
       "min      0.029317\n",
       "25%      0.342273\n",
       "50%      0.568364\n",
       "75%      1.088064\n",
       "max     19.326435"
      ]
     },
     "execution_count": 40,
     "metadata": {},
     "output_type": "execute_result"
    },
    {
     "data": {
      "image/png": "[encoded data removed]",
      "text/plain": [
       "<Figure size 1080x144 with 1 Axes>"
      ]
     },
     "metadata": {},
     "output_type": "display_data"
    }
   ],
   "source": [
    "cities.query('ad_type == \"banner\"').boxplot(figsize=(15,2), vert=False,)\n",
    "plt.title('Баннер');\n",
    "cities.query('ad_type == \"banner\"').describe()"
   ]
  },
  {
   "cell_type": "code",
   "execution_count": 41,
   "id": "a4441460",
   "metadata": {},
   "outputs": [
    {
     "data": {
      "text/html": [
       "<div>\n",
       "<style scoped>\n",
       "    .dataframe tbody tr th:only-of-type {\n",
       "        vertical-align: middle;\n",
       "    }\n",
       "\n",
       "    .dataframe tbody tr th {\n",
       "        vertical-align: top;\n",
       "    }\n",
       "\n",
       "    .dataframe thead th {\n",
       "        text-align: right;\n",
       "    }\n",
       "</style>\n",
       "<table border=\"1\" class=\"dataframe\">\n",
       "  <thead>\n",
       "    <tr style=\"text-align: right;\">\n",
       "      <th></th>\n",
       "      <th>eCPM</th>\n",
       "    </tr>\n",
       "  </thead>\n",
       "  <tbody>\n",
       "    <tr>\n",
       "      <th>count</th>\n",
       "      <td>869.000000</td>\n",
       "    </tr>\n",
       "    <tr>\n",
       "      <th>mean</th>\n",
       "      <td>44.829423</td>\n",
       "    </tr>\n",
       "    <tr>\n",
       "      <th>std</th>\n",
       "      <td>44.671766</td>\n",
       "    </tr>\n",
       "    <tr>\n",
       "      <th>min</th>\n",
       "      <td>2.750576</td>\n",
       "    </tr>\n",
       "    <tr>\n",
       "      <th>25%</th>\n",
       "      <td>19.411409</td>\n",
       "    </tr>\n",
       "    <tr>\n",
       "      <th>50%</th>\n",
       "      <td>31.001778</td>\n",
       "    </tr>\n",
       "    <tr>\n",
       "      <th>75%</th>\n",
       "      <td>52.142344</td>\n",
       "    </tr>\n",
       "    <tr>\n",
       "      <th>max</th>\n",
       "      <td>437.039882</td>\n",
       "    </tr>\n",
       "  </tbody>\n",
       "</table>\n",
       "</div>"
      ],
      "text/plain": [
       "             eCPM\n",
       "count  869.000000\n",
       "mean    44.829423\n",
       "std     44.671766\n",
       "min      2.750576\n",
       "25%     19.411409\n",
       "50%     31.001778\n",
       "75%     52.142344\n",
       "max    437.039882"
      ]
     },
     "execution_count": 41,
     "metadata": {},
     "output_type": "execute_result"
    },
    {
     "data": {
      "image/png": "[encoded data removed]",
      "text/plain": [
       "<Figure size 1080x144 with 1 Axes>"
      ]
     },
     "metadata": {},
     "output_type": "display_data"
    }
   ],
   "source": [
    "cities.query('ad_type == \"int\"').boxplot(figsize=(15,2), vert=False,)\n",
    "plt.title('Полноэкранный');\n",
    "cities.query('ad_type == \"int\"').describe()"
   ]
  },
  {
   "cell_type": "code",
   "execution_count": 42,
   "id": "1a05826a",
   "metadata": {},
   "outputs": [
    {
     "data": {
      "text/html": [
       "<div>\n",
       "<style scoped>\n",
       "    .dataframe tbody tr th:only-of-type {\n",
       "        vertical-align: middle;\n",
       "    }\n",
       "\n",
       "    .dataframe tbody tr th {\n",
       "        vertical-align: top;\n",
       "    }\n",
       "\n",
       "    .dataframe thead th {\n",
       "        text-align: right;\n",
       "    }\n",
       "</style>\n",
       "<table border=\"1\" class=\"dataframe\">\n",
       "  <thead>\n",
       "    <tr style=\"text-align: right;\">\n",
       "      <th></th>\n",
       "      <th>eCPM</th>\n",
       "    </tr>\n",
       "  </thead>\n",
       "  <tbody>\n",
       "    <tr>\n",
       "      <th>count</th>\n",
       "      <td>454.000000</td>\n",
       "    </tr>\n",
       "    <tr>\n",
       "      <th>mean</th>\n",
       "      <td>80.532356</td>\n",
       "    </tr>\n",
       "    <tr>\n",
       "      <th>std</th>\n",
       "      <td>76.601650</td>\n",
       "    </tr>\n",
       "    <tr>\n",
       "      <th>min</th>\n",
       "      <td>3.339551</td>\n",
       "    </tr>\n",
       "    <tr>\n",
       "      <th>25%</th>\n",
       "      <td>28.240000</td>\n",
       "    </tr>\n",
       "    <tr>\n",
       "      <th>50%</th>\n",
       "      <td>55.959567</td>\n",
       "    </tr>\n",
       "    <tr>\n",
       "      <th>75%</th>\n",
       "      <td>104.940871</td>\n",
       "    </tr>\n",
       "    <tr>\n",
       "      <th>max</th>\n",
       "      <td>808.294820</td>\n",
       "    </tr>\n",
       "  </tbody>\n",
       "</table>\n",
       "</div>"
      ],
      "text/plain": [
       "             eCPM\n",
       "count  454.000000\n",
       "mean    80.532356\n",
       "std     76.601650\n",
       "min      3.339551\n",
       "25%     28.240000\n",
       "50%     55.959567\n",
       "75%    104.940871\n",
       "max    808.294820"
      ]
     },
     "execution_count": 42,
     "metadata": {},
     "output_type": "execute_result"
    },
    {
     "data": {
      "image/png": "[encoded data removed]",
      "text/plain": [
       "<Figure size 1080x144 with 1 Axes>"
      ]
     },
     "metadata": {},
     "output_type": "display_data"
    }
   ],
   "source": [
    "cities.query('ad_type == \"rv\"').boxplot(figsize=(15,2), vert=False,)\n",
    "plt.title('Видео');\n",
    "cities.query('ad_type == \"rv\"').describe()"
   ]
  },
  {
   "cell_type": "code",
   "execution_count": 43,
   "id": "28b2d5bf",
   "metadata": {},
   "outputs": [],
   "source": [
    "cities_filtered = filtered(cities)"
   ]
  },
  {
   "cell_type": "code",
   "execution_count": 44,
   "id": "d7c92994",
   "metadata": {
    "scrolled": false
   },
   "outputs": [
    {
     "data": {
      "text/html": [
       "<div>\n",
       "<style scoped>\n",
       "    .dataframe tbody tr th:only-of-type {\n",
       "        vertical-align: middle;\n",
       "    }\n",
       "\n",
       "    .dataframe tbody tr th {\n",
       "        vertical-align: top;\n",
       "    }\n",
       "\n",
       "    .dataframe thead th {\n",
       "        text-align: right;\n",
       "    }\n",
       "</style>\n",
       "<table border=\"1\" class=\"dataframe\">\n",
       "  <thead>\n",
       "    <tr style=\"text-align: right;\">\n",
       "      <th></th>\n",
       "      <th>ad_type</th>\n",
       "      <th>eCPM</th>\n",
       "    </tr>\n",
       "  </thead>\n",
       "  <tbody>\n",
       "    <tr>\n",
       "      <th>2</th>\n",
       "      <td>rv</td>\n",
       "      <td>62.086443</td>\n",
       "    </tr>\n",
       "    <tr>\n",
       "      <th>1</th>\n",
       "      <td>int</td>\n",
       "      <td>36.736462</td>\n",
       "    </tr>\n",
       "    <tr>\n",
       "      <th>0</th>\n",
       "      <td>banner</td>\n",
       "      <td>0.765397</td>\n",
       "    </tr>\n",
       "  </tbody>\n",
       "</table>\n",
       "</div>"
      ],
      "text/plain": [
       "  ad_type       eCPM\n",
       "2      rv  62.086443\n",
       "1     int  36.736462\n",
       "0  banner   0.765397"
      ]
     },
     "metadata": {},
     "output_type": "display_data"
    },
    {
     "data": {
      "image/png": "[encoded data removed]",
      "text/plain": [
       "<Figure size 864x432 with 1 Axes>"
      ]
     },
     "metadata": {},
     "output_type": "display_data"
    }
   ],
   "source": [
    "mean_eCPM(cities_filtered) "
   ]
  },
  {
   "cell_type": "markdown",
   "id": "64f7516a",
   "metadata": {},
   "source": [
    "Общая картина распределения по городам такая же, как и по пользователям. Относительные значения по сравнению с разбивкой по  пользователям немного отличаются."
   ]
  },
  {
   "cell_type": "markdown",
   "id": "091a5f0e",
   "metadata": {},
   "source": [
    "#### Распределение eCPM по версиям ОС"
   ]
  },
  {
   "cell_type": "code",
   "execution_count": 45,
   "id": "3850f85a",
   "metadata": {},
   "outputs": [
    {
     "data": {
      "text/html": [
       "<div>\n",
       "<style scoped>\n",
       "    .dataframe tbody tr th:only-of-type {\n",
       "        vertical-align: middle;\n",
       "    }\n",
       "\n",
       "    .dataframe tbody tr th {\n",
       "        vertical-align: top;\n",
       "    }\n",
       "\n",
       "    .dataframe thead th {\n",
       "        text-align: right;\n",
       "    }\n",
       "</style>\n",
       "<table border=\"1\" class=\"dataframe\">\n",
       "  <thead>\n",
       "    <tr style=\"text-align: right;\">\n",
       "      <th></th>\n",
       "      <th>ad_type</th>\n",
       "      <th>os_version</th>\n",
       "      <th>eCPM</th>\n",
       "    </tr>\n",
       "  </thead>\n",
       "  <tbody>\n",
       "    <tr>\n",
       "      <th>0</th>\n",
       "      <td>banner</td>\n",
       "      <td>10</td>\n",
       "      <td>0.591274</td>\n",
       "    </tr>\n",
       "    <tr>\n",
       "      <th>1</th>\n",
       "      <td>banner</td>\n",
       "      <td>11</td>\n",
       "      <td>0.592766</td>\n",
       "    </tr>\n",
       "    <tr>\n",
       "      <th>2</th>\n",
       "      <td>banner</td>\n",
       "      <td>12</td>\n",
       "      <td>0.936871</td>\n",
       "    </tr>\n",
       "    <tr>\n",
       "      <th>3</th>\n",
       "      <td>banner</td>\n",
       "      <td>5.0.2</td>\n",
       "      <td>0.198288</td>\n",
       "    </tr>\n",
       "    <tr>\n",
       "      <th>4</th>\n",
       "      <td>banner</td>\n",
       "      <td>6.0.1</td>\n",
       "      <td>0.254481</td>\n",
       "    </tr>\n",
       "  </tbody>\n",
       "</table>\n",
       "</div>"
      ],
      "text/plain": [
       "  ad_type os_version      eCPM\n",
       "0  banner         10  0.591274\n",
       "1  banner         11  0.592766\n",
       "2  banner         12  0.936871\n",
       "3  banner      5.0.2  0.198288\n",
       "4  banner      6.0.1  0.254481"
      ]
     },
     "execution_count": 45,
     "metadata": {},
     "output_type": "execute_result"
    }
   ],
   "source": [
    "OS = (combined.groupby(['ad_type', 'os_version'])\n",
    "         .agg({'revenue': 'mean'})*1000).reset_index().rename(columns={'revenue': 'eCPM'})\n",
    "OS.head()"
   ]
  },
  {
   "cell_type": "code",
   "execution_count": 46,
   "id": "cf7185ed",
   "metadata": {},
   "outputs": [
    {
     "data": {
      "text/html": [
       "<div>\n",
       "<style scoped>\n",
       "    .dataframe tbody tr th:only-of-type {\n",
       "        vertical-align: middle;\n",
       "    }\n",
       "\n",
       "    .dataframe tbody tr th {\n",
       "        vertical-align: top;\n",
       "    }\n",
       "\n",
       "    .dataframe thead th {\n",
       "        text-align: right;\n",
       "    }\n",
       "</style>\n",
       "<table border=\"1\" class=\"dataframe\">\n",
       "  <thead>\n",
       "    <tr style=\"text-align: right;\">\n",
       "      <th></th>\n",
       "      <th>eCPM</th>\n",
       "    </tr>\n",
       "  </thead>\n",
       "  <tbody>\n",
       "    <tr>\n",
       "      <th>count</th>\n",
       "      <td>11.000000</td>\n",
       "    </tr>\n",
       "    <tr>\n",
       "      <th>mean</th>\n",
       "      <td>24.491810</td>\n",
       "    </tr>\n",
       "    <tr>\n",
       "      <th>std</th>\n",
       "      <td>10.732331</td>\n",
       "    </tr>\n",
       "    <tr>\n",
       "      <th>min</th>\n",
       "      <td>11.964031</td>\n",
       "    </tr>\n",
       "    <tr>\n",
       "      <th>25%</th>\n",
       "      <td>16.331947</td>\n",
       "    </tr>\n",
       "    <tr>\n",
       "      <th>50%</th>\n",
       "      <td>20.030134</td>\n",
       "    </tr>\n",
       "    <tr>\n",
       "      <th>75%</th>\n",
       "      <td>32.342557</td>\n",
       "    </tr>\n",
       "    <tr>\n",
       "      <th>max</th>\n",
       "      <td>42.391070</td>\n",
       "    </tr>\n",
       "  </tbody>\n",
       "</table>\n",
       "</div>"
      ],
      "text/plain": [
       "            eCPM\n",
       "count  11.000000\n",
       "mean   24.491810\n",
       "std    10.732331\n",
       "min    11.964031\n",
       "25%    16.331947\n",
       "50%    20.030134\n",
       "75%    32.342557\n",
       "max    42.391070"
      ]
     },
     "execution_count": 46,
     "metadata": {},
     "output_type": "execute_result"
    },
    {
     "data": {
      "image/png": "[encoded data removed]",
      "text/plain": [
       "<Figure size 1080x144 with 1 Axes>"
      ]
     },
     "metadata": {},
     "output_type": "display_data"
    }
   ],
   "source": [
    "OS.query('ad_type == \"int\"').boxplot(figsize=(15,2), vert=False,)\n",
    "plt.title('Полноэкранный');\n",
    "OS.query('ad_type == \"int\"').describe()"
   ]
  },
  {
   "cell_type": "code",
   "execution_count": 47,
   "id": "cb08e48c",
   "metadata": {},
   "outputs": [
    {
     "data": {
      "text/html": [
       "<div>\n",
       "<style scoped>\n",
       "    .dataframe tbody tr th:only-of-type {\n",
       "        vertical-align: middle;\n",
       "    }\n",
       "\n",
       "    .dataframe tbody tr th {\n",
       "        vertical-align: top;\n",
       "    }\n",
       "\n",
       "    .dataframe thead th {\n",
       "        text-align: right;\n",
       "    }\n",
       "</style>\n",
       "<table border=\"1\" class=\"dataframe\">\n",
       "  <thead>\n",
       "    <tr style=\"text-align: right;\">\n",
       "      <th></th>\n",
       "      <th>eCPM</th>\n",
       "    </tr>\n",
       "  </thead>\n",
       "  <tbody>\n",
       "    <tr>\n",
       "      <th>count</th>\n",
       "      <td>11.000000</td>\n",
       "    </tr>\n",
       "    <tr>\n",
       "      <th>mean</th>\n",
       "      <td>0.406479</td>\n",
       "    </tr>\n",
       "    <tr>\n",
       "      <th>std</th>\n",
       "      <td>0.236609</td>\n",
       "    </tr>\n",
       "    <tr>\n",
       "      <th>min</th>\n",
       "      <td>0.144868</td>\n",
       "    </tr>\n",
       "    <tr>\n",
       "      <th>25%</th>\n",
       "      <td>0.245311</td>\n",
       "    </tr>\n",
       "    <tr>\n",
       "      <th>50%</th>\n",
       "      <td>0.320697</td>\n",
       "    </tr>\n",
       "    <tr>\n",
       "      <th>75%</th>\n",
       "      <td>0.570414</td>\n",
       "    </tr>\n",
       "    <tr>\n",
       "      <th>max</th>\n",
       "      <td>0.936871</td>\n",
       "    </tr>\n",
       "  </tbody>\n",
       "</table>\n",
       "</div>"
      ],
      "text/plain": [
       "            eCPM\n",
       "count  11.000000\n",
       "mean    0.406479\n",
       "std     0.236609\n",
       "min     0.144868\n",
       "25%     0.245311\n",
       "50%     0.320697\n",
       "75%     0.570414\n",
       "max     0.936871"
      ]
     },
     "execution_count": 47,
     "metadata": {},
     "output_type": "execute_result"
    },
    {
     "data": {
      "image/png": "[encoded data removed]",
      "text/plain": [
       "<Figure size 1080x144 with 1 Axes>"
      ]
     },
     "metadata": {},
     "output_type": "display_data"
    }
   ],
   "source": [
    "OS.query('ad_type == \"banner\"').boxplot(figsize=(15,2), vert=False,)\n",
    "plt.title('Баннер');\n",
    "OS.query('ad_type == \"banner\"').describe()"
   ]
  },
  {
   "cell_type": "code",
   "execution_count": 48,
   "id": "3aa338cb",
   "metadata": {},
   "outputs": [
    {
     "data": {
      "text/html": [
       "<div>\n",
       "<style scoped>\n",
       "    .dataframe tbody tr th:only-of-type {\n",
       "        vertical-align: middle;\n",
       "    }\n",
       "\n",
       "    .dataframe tbody tr th {\n",
       "        vertical-align: top;\n",
       "    }\n",
       "\n",
       "    .dataframe thead th {\n",
       "        text-align: right;\n",
       "    }\n",
       "</style>\n",
       "<table border=\"1\" class=\"dataframe\">\n",
       "  <thead>\n",
       "    <tr style=\"text-align: right;\">\n",
       "      <th></th>\n",
       "      <th>eCPM</th>\n",
       "    </tr>\n",
       "  </thead>\n",
       "  <tbody>\n",
       "    <tr>\n",
       "      <th>count</th>\n",
       "      <td>10.000000</td>\n",
       "    </tr>\n",
       "    <tr>\n",
       "      <th>mean</th>\n",
       "      <td>43.413864</td>\n",
       "    </tr>\n",
       "    <tr>\n",
       "      <th>std</th>\n",
       "      <td>24.529849</td>\n",
       "    </tr>\n",
       "    <tr>\n",
       "      <th>min</th>\n",
       "      <td>9.191038</td>\n",
       "    </tr>\n",
       "    <tr>\n",
       "      <th>25%</th>\n",
       "      <td>26.119036</td>\n",
       "    </tr>\n",
       "    <tr>\n",
       "      <th>50%</th>\n",
       "      <td>44.383102</td>\n",
       "    </tr>\n",
       "    <tr>\n",
       "      <th>75%</th>\n",
       "      <td>53.368374</td>\n",
       "    </tr>\n",
       "    <tr>\n",
       "      <th>max</th>\n",
       "      <td>79.662468</td>\n",
       "    </tr>\n",
       "  </tbody>\n",
       "</table>\n",
       "</div>"
      ],
      "text/plain": [
       "            eCPM\n",
       "count  10.000000\n",
       "mean   43.413864\n",
       "std    24.529849\n",
       "min     9.191038\n",
       "25%    26.119036\n",
       "50%    44.383102\n",
       "75%    53.368374\n",
       "max    79.662468"
      ]
     },
     "execution_count": 48,
     "metadata": {},
     "output_type": "execute_result"
    },
    {
     "data": {
      "image/png": "[encoded data removed]",
      "text/plain": [
       "<Figure size 1080x144 with 1 Axes>"
      ]
     },
     "metadata": {},
     "output_type": "display_data"
    }
   ],
   "source": [
    "OS.query('ad_type == \"rv\"').boxplot(figsize=(15,2), vert=False,)\n",
    "plt.title('Видео');\n",
    "OS.query('ad_type == \"rv\"').describe()"
   ]
  },
  {
   "cell_type": "code",
   "execution_count": 49,
   "id": "094ed8a8",
   "metadata": {},
   "outputs": [
    {
     "data": {
      "text/plain": [
       "10       1\n",
       "11       1\n",
       "12       1\n",
       "5.0.2    1\n",
       "6.0.1    1\n",
       "7.0      1\n",
       "7.1.1    1\n",
       "8.0.0    1\n",
       "8.1.0    1\n",
       "9        1\n",
       "Name: os_version, dtype: int64"
      ]
     },
     "execution_count": 49,
     "metadata": {},
     "output_type": "execute_result"
    }
   ],
   "source": [
    "OS.query('ad_type == \"rv\"')['os_version'].value_counts().sort_values()"
   ]
  },
  {
   "cell_type": "code",
   "execution_count": 50,
   "id": "60865ade",
   "metadata": {},
   "outputs": [
    {
     "data": {
      "text/plain": [
       "10       1\n",
       "11       1\n",
       "12       1\n",
       "5.0.2    1\n",
       "6.0.1    1\n",
       "7.0      1\n",
       "7.1.1    1\n",
       "7.1.2    1\n",
       "8.0.0    1\n",
       "8.1.0    1\n",
       "9        1\n",
       "Name: os_version, dtype: int64"
      ]
     },
     "execution_count": 50,
     "metadata": {},
     "output_type": "execute_result"
    }
   ],
   "source": [
    "OS.query('ad_type == \"banner\"')['os_version'].value_counts().sort_values()"
   ]
  },
  {
   "cell_type": "markdown",
   "id": "f22996a5",
   "metadata": {},
   "source": [
    "Аномалий нет. В формате видео рекламы отсутсвует ситема ОС 7.1.2. "
   ]
  },
  {
   "cell_type": "code",
   "execution_count": 51,
   "id": "775fec34",
   "metadata": {},
   "outputs": [
    {
     "data": {
      "image/png": "[encoded data removed]",
      "text/plain": [
       "<Figure size 864x432 with 1 Axes>"
      ]
     },
     "metadata": {},
     "output_type": "display_data"
    },
    {
     "data": {
      "image/png": "[encoded data removed]",
      "text/plain": [
       "<Figure size 864x432 with 1 Axes>"
      ]
     },
     "metadata": {},
     "output_type": "display_data"
    },
    {
     "data": {
      "image/png": "[encoded data removed]",
      "text/plain": [
       "<Figure size 864x432 with 1 Axes>"
      ]
     },
     "metadata": {},
     "output_type": "display_data"
    }
   ],
   "source": [
    "fig = plt.subplots(figsize=[12,6])\n",
    "sns.barplot(x='os_version', y='eCPM', data=OS.query('ad_type == \"banner\"').sort_values(by='eCPM', ascending=False))\n",
    "plt.ylabel('eCPM',fontsize=12)\n",
    "plt.title('eCPM по баннеров по ОС')\n",
    "fig = plt.subplots(figsize=[12,6])\n",
    "sns.barplot(x='os_version', y='eCPM', data=OS.query('ad_type == \"int\"').sort_values(by='eCPM', ascending=False))\n",
    "plt.ylabel('eCPM',fontsize=12)\n",
    "plt.title('eCPM полноэкранной рекламы по ОС')\n",
    "fig = plt.subplots(figsize=[12,6])\n",
    "sns.barplot(x='os_version', y='eCPM', data=OS.query('ad_type == \"rv\"').sort_values(by='eCPM', ascending=False))\n",
    "plt.ylabel('eCPM',fontsize=12)\n",
    "plt.title('eCPM видео рекламы по ОС');"
   ]
  },
  {
   "cell_type": "markdown",
   "id": "4d4dd745",
   "metadata": {},
   "source": [
    "Чем новее система тем больше eCPM, примечательно первое и второе место 7.0 версии по видео и полноэкранной рекламе. Видео реклама скорее всего не подерживается системой ОС версии 7.1.2"
   ]
  },
  {
   "cell_type": "markdown",
   "id": "d6a391cc",
   "metadata": {},
   "source": [
    "### Распределение выручки по городам, версиям ОС"
   ]
  },
  {
   "cell_type": "markdown",
   "id": "2fe08b55",
   "metadata": {},
   "source": [
    "#### Распределение выручки по версии ОС"
   ]
  },
  {
   "cell_type": "code",
   "execution_count": 52,
   "id": "140d156b",
   "metadata": {},
   "outputs": [
    {
     "data": {
      "image/png": "[encoded data removed]",
      "text/plain": [
       "<Figure size 864x432 with 1 Axes>"
      ]
     },
     "metadata": {},
     "output_type": "display_data"
    },
    {
     "data": {
      "image/png": "[encoded data removed]",
      "text/plain": [
       "<Figure size 864x432 with 1 Axes>"
      ]
     },
     "metadata": {},
     "output_type": "display_data"
    },
    {
     "data": {
      "image/png": "[encoded data removed]",
      "text/plain": [
       "<Figure size 864x432 with 1 Axes>"
      ]
     },
     "metadata": {},
     "output_type": "display_data"
    }
   ],
   "source": [
    "fig = plt.subplots(figsize=[12,6])\n",
    "sns.barplot(x='os_version', y='revenue', data=combined.query('ad_type == \"banner\"').groupby('os_version').agg({'revenue': 'sum'})\n",
    "            .reset_index().sort_values(by='revenue', ascending=False))\n",
    "plt.xlabel('Версия ОС',fontsize=12)\n",
    "plt.ylabel('доход',fontsize=12)\n",
    "plt.title('Баннер')\n",
    "fig = plt.subplots(figsize=[12,6])\n",
    "sns.barplot(x='os_version', y='revenue', data=combined.query('ad_type == \"int\"').groupby('os_version').agg({'revenue': 'sum'})\n",
    "            .reset_index().sort_values(by='revenue', ascending=False))\n",
    "plt.xlabel('Версия ОС',fontsize=12)\n",
    "plt.ylabel('доход',fontsize=12)\n",
    "plt.title('Полноэкранный')\n",
    "fig = plt.subplots(figsize=[12,6])\n",
    "sns.barplot(x='os_version', y='revenue', data=combined.query('ad_type == \"rv\"').groupby('os_version').agg({'revenue': 'sum'})\n",
    "            .reset_index().sort_values(by='revenue', ascending=False))\n",
    "plt.xlabel('Версия ОС',fontsize=12)\n",
    "plt.ylabel('доход',fontsize=12)\n",
    "plt.title('Видео');"
   ]
  },
  {
   "cell_type": "markdown",
   "id": "5ede2969",
   "metadata": {},
   "source": [
    "Большую часть дохода приносят юзеры с последними версиями ОС"
   ]
  },
  {
   "cell_type": "markdown",
   "id": "ce53e0b8",
   "metadata": {},
   "source": [
    "#### Распределение выручки по городам"
   ]
  },
  {
   "cell_type": "code",
   "execution_count": 53,
   "id": "db4d700c",
   "metadata": {},
   "outputs": [
    {
     "data": {
      "image/png": "[encoded data removed]",
      "text/plain": [
       "<Figure size 864x432 with 1 Axes>"
      ]
     },
     "metadata": {},
     "output_type": "display_data"
    },
    {
     "data": {
      "image/png": "[encoded data removed]",
      "text/plain": [
       "<Figure size 864x432 with 1 Axes>"
      ]
     },
     "metadata": {},
     "output_type": "display_data"
    },
    {
     "data": {
      "image/png": "[encoded data removed]",
      "text/plain": [
       "<Figure size 864x432 with 1 Axes>"
      ]
     },
     "metadata": {},
     "output_type": "display_data"
    }
   ],
   "source": [
    "plt.figure(figsize = (12,6))\n",
    "sns.set_style(\"whitegrid\") \n",
    "sns.distplot(combined.query('ad_type == \"int\"').groupby('city').agg({'revenue': 'sum'}), color='red')\n",
    "plt.title('Полноэкранная реклама')\n",
    "plt.legend(['int'])\n",
    "plt.show()\n",
    "plt.figure(figsize = (12,6))\n",
    "sns.set_style(\"whitegrid\") \n",
    "sns.distplot(combined.query('ad_type == \"rv\"').groupby('city').agg({'revenue': 'sum'}), color='blue')\n",
    "plt.title('Видео')\n",
    "plt.legend(['rv'])\n",
    "plt.show()\n",
    "plt.figure(figsize = (12,6))\n",
    "sns.set_style(\"whitegrid\") \n",
    "sns.distplot(combined.query('ad_type == \"banner\"').groupby('city').agg({'revenue': 'sum'}), color='green')\n",
    "plt.title('Горизонтальный баннер')\n",
    "plt.legend(['banner'])\n",
    "plt.show()"
   ]
  },
  {
   "cell_type": "markdown",
   "id": "1430615a",
   "metadata": {},
   "source": [
    "### Распределения еCPM по времени дня"
   ]
  },
  {
   "cell_type": "code",
   "execution_count": 54,
   "id": "7be301d7",
   "metadata": {},
   "outputs": [],
   "source": [
    "combined['hour']= pd.to_datetime(combined['event_datetime'], format='%Y-%m-%d %H:%M:%S').dt.hour"
   ]
  },
  {
   "cell_type": "code",
   "execution_count": 55,
   "id": "e2f2f062",
   "metadata": {},
   "outputs": [
    {
     "data": {
      "image/png": "[encoded data removed]",
      "text/plain": [
       "<Figure size 1008x432 with 1 Axes>"
      ]
     },
     "metadata": {},
     "output_type": "display_data"
    }
   ],
   "source": [
    "plt.figure(figsize = (14,6))\n",
    "plt.plot((combined.groupby(['hour']).agg({'revenue': 'mean'})*1000).rename(columns={'revenue': 'eCPM'}))\n",
    "plt.xlabel('Часы')\n",
    "plt.ylabel('eCPM')\n",
    "plt.minorticks_on()\n",
    "plt.grid(True, which='minor', color = 'k', linestyle = ':')\n",
    "plt.show()"
   ]
  },
  {
   "cell_type": "markdown",
   "id": "330c541c",
   "metadata": {},
   "source": [
    "График сгруппирован по часам и не учитывает выходные дни и праздники. По графику можно сказать что активность пользователей связана с рабочим расписанием."
   ]
  },
  {
   "cell_type": "markdown",
   "id": "395498fa",
   "metadata": {},
   "source": [
    "# Вывод"
   ]
  },
  {
   "cell_type": "markdown",
   "id": "c9e1a3bb",
   "metadata": {},
   "source": [
    "В данном исследование мы изучили средние eCPM по форматам рекламы с разбивкой по пользователям, городам, ОС, отфильтровав аномальные, выбивающиеся значения. Выяснили что самый высокий показатель eCPM, с разбивкой по юзерам и городам у видео рекламы, самый низкий у баннеров. Видео реклама, скорее всего не подерживается системой ОС версии 7.1.2. Большую часть дохода приносят юзеры с последними версиями ОС, версия 7.0 ОС имеет необычно высокий eCPM в полноэкранном и видео формате. Также выяснили что 62.363% доходов содержат информацию о городе юзера и что активность пользователей связана с рабочим расписанием."
   ]
  }
 ],
 "metadata": {
  "kernelspec": {
   "display_name": "Python 3 (ipykernel)",
   "language": "python",
   "name": "python3"
  },
  "language_info": {
   "codemirror_mode": {
    "name": "ipython",
    "version": 3
   },
   "file_extension": ".py",
   "mimetype": "text/x-python",
   "name": "python",
   "nbconvert_exporter": "python",
   "pygments_lexer": "ipython3",
   "version": "3.9.7"
  },
  "toc": {
   "base_numbering": "1",
   "nav_menu": {},
   "number_sections": true,
   "sideBar": true,
   "skip_h1_title": true,
   "title_cell": "Содержание",
   "title_sidebar": "Contents",
   "toc_cell": true,
   "toc_position": {
    "height": "calc(100% - 180px)",
    "left": "10px",
    "top": "150px",
    "width": "384px"
   },
   "toc_section_display": true,
   "toc_window_display": false
  }
 },
 "nbformat": 4,
 "nbformat_minor": 5
}
